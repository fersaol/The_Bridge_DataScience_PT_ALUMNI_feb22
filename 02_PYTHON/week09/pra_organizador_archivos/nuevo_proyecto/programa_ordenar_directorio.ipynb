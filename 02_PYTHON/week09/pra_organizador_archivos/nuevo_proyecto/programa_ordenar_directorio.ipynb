{
 "cells": [
  {
   "cell_type": "code",
   "execution_count": 1,
   "metadata": {},
   "outputs": [],
   "source": [
    "import os\n",
    "from tkinter import *\n",
    "from tkinter import messagebox\n",
    "import shutil"
   ]
  },
  {
   "cell_type": "code",
   "execution_count": 4,
   "metadata": {},
   "outputs": [],
   "source": [
    "# Primero establezco las rutas de los directorios:\n",
    "ruta_origen = \"C:/Users/ferna/OneDrive/Documentos/MIS_COSAS_DE_THE_BRIDGE/Python/Ejercicios/nuevo_proyecto/descargas\"\n",
    "ruta_destino_docs = \"C:/Users/ferna/OneDrive/Documentos/MIS_COSAS_DE_THE_BRIDGE/Python/Ejercicios/nuevo_proyecto/descargas/documents\"\n",
    "ruta_destino_image = \"C:/Users/ferna/OneDrive/Documentos/MIS_COSAS_DE_THE_BRIDGE/Python/Ejercicios/nuevo_proyecto/descargas/image\"\n",
    "ruta_destino_software = \"C:/Users/ferna/OneDrive/Documentos/MIS_COSAS_DE_THE_BRIDGE/Python/Ejercicios/nuevo_proyecto/descargas/software\"\n",
    "ruta_destino_others = \"C:/Users/ferna/OneDrive/Documentos/MIS_COSAS_DE_THE_BRIDGE/Python/Ejercicios/nuevo_proyecto/descargas/others\""
   ]
  },
  {
   "cell_type": "code",
   "execution_count": 9,
   "metadata": {},
   "outputs": [
    {
     "data": {
      "text/plain": [
       "['documents',\n",
       " 'image',\n",
       " 'IMG-20180428-WA0001.jpg',\n",
       " 'Libro1.xlsx',\n",
       " 'others',\n",
       " 'prueba.txt',\n",
       " 'software']"
      ]
     },
     "execution_count": 9,
     "metadata": {},
     "output_type": "execute_result"
    }
   ],
   "source": [
    "# Establecemos las variables a usar:\n",
    "nombres = os.listdir(ruta_origen)\n",
    "nombres"
   ]
  },
  {
   "cell_type": "code",
   "execution_count": 6,
   "metadata": {},
   "outputs": [],
   "source": [
    "# Establecemos los tipos de nombres:\n",
    "documentos = (\".txt\",\".docx\",\".doc\",\".xlsx\",\".xls\",\".pptx\",\".ppt\",\".pdf\",\".csv\")\n",
    "imagenes = (\".png\",\".jpg\",\".jpeg\",\".gif\",\".tif\",\".svg\",\".tiff\")\n",
    "software = (\".exe\",\"pkg\",\".dmg\")"
   ]
  },
  {
   "cell_type": "code",
   "execution_count": null,
   "metadata": {},
   "outputs": [],
   "source": [
    "\n",
    "def comprobacion_archivos():\n",
    "    for f in nombres:\n",
    "        path = f\"{ruta_origen}/{f}\"\n",
    "        check = os.path.isfile(path)\n",
    "        return check"
   ]
  },
  {
   "cell_type": "code",
   "execution_count": 21,
   "metadata": {},
   "outputs": [],
   "source": [
    "def organiza_os():\n",
    "\n",
    "    global ruta_origen,rd,ri,rs,ro\n",
    "    ruta_origen,rd,ri,rs,ro =e1.get(), e2.get(),e3.get(),e4.get(),e5.get()\n",
    "    nombres = os.listdir(ruta_origen)\n",
    "    documentos = (\".txt\",\".docx\",\".doc\",\".xlsx\",\".xls\",\".pptx\",\".ppt\",\".pdf\",\".csv\")\n",
    "    imagenes = (\".png\",\".jpg\",\".jpeg\",\".gif\",\".tif\",\".svg\",\".tiff\")\n",
    "    software = (\".exe\",\"pkg\",\".dmg\")\n",
    "\n",
    "    def comprobador_vacio():\n",
    "        \"\"\"comprueba que haya archivos que organizar en el directorio\"\"\"\n",
    "        counter = 0\n",
    "        for f in nombres:\n",
    "            path = f\"{ruta_origen}/{f}\"\n",
    "            check = os.path.isfile(path)\n",
    "            if check == True:\n",
    "                counter += 1\n",
    "        return counter\n",
    "\n",
    "    def organizador():\n",
    "\n",
    "        \"\"\"cambia los archivos en el directorio origen indicado a los directorios \n",
    "        destino que se establezca según la extensión de estos\"\"\"\n",
    "        \n",
    "        for nombre in nombres:\n",
    "            file = f\"{ruta_origen}/{nombre}\"\n",
    "            if os.path.isfile(file):\n",
    "                if nombre.lower().endswith(documentos):\n",
    "                    new_file = f\"{rd}/{nombre}\"\n",
    "                    os.rename(file,new_file)\n",
    "                elif nombre.lower().endswith(imagenes):\n",
    "                    new_file = f\"{ri}/{nombre}\"\n",
    "                    os.rename(file,new_file)\n",
    "                elif nombre.lower().endswith(software):\n",
    "                    new_file = f\"{rs}/{nombre}\"\n",
    "                    os.rename(file,new_file)\n",
    "                else:\n",
    "                    new_file = f\"{ro}/{nombre}\"\n",
    "                    os.rename(file,new_file)\n",
    "            else:\n",
    "                continue\n",
    "\n",
    "    vacio = comprobador_vacio()\n",
    "    if vacio != 0:\n",
    "        organizador()\n",
    "        messagebox.showinfo(message=' ficheros organizados correctamente',title = 'Info')\n",
    "    else:\n",
    "        messagebox.showerror(message=\"El directorio no tiene archivos que organizar\",title=\"Info\")\n",
    "\n",
    "    \n"
   ]
  },
  {
   "cell_type": "code",
   "execution_count": 10,
   "metadata": {},
   "outputs": [
    {
     "name": "stdout",
     "output_type": "stream",
     "text": [
      "False\n",
      "False\n",
      "True\n",
      "True\n",
      "False\n",
      "True\n",
      "False\n"
     ]
    }
   ],
   "source": [
    "for f in nombres:\n",
    "    path = f\"{ruta_origen}/{f}\"\n",
    "    check = os.path.isfile(path)\n",
    "    print(check)"
   ]
  },
  {
   "cell_type": "code",
   "execution_count": 22,
   "metadata": {},
   "outputs": [],
   "source": [
    "\n",
    "window= Tk()\n",
    "window.title(\"APLICACION\")\n",
    "window.geometry(\"800x275\")\n",
    "window.geometry(\"+{}+{}\".format(550,180))\n",
    "\n",
    "l1=Label(window,text='',fg=\"#13375B\", font=('Helvetica', 11,'bold'), height=1, anchor=\"e\",width=20)\n",
    "l1.grid(row=0)\n",
    "l1=Label(window,text='',fg=\"#13375B\", font=('Helvetica', 11,'bold'), height=1, anchor=\"e\",width=20)\n",
    "l1.grid(row=1)\n",
    "\n",
    "ruta_origen = StringVar(value = 'Escribe la ruta de origen a organizar')\n",
    "l1=Label(window,text='Ruta Origen',fg=\"#13375B\", font=('Helvetica', 11,'bold'), height=1, anchor=\"e\",width=20)\n",
    "l1.grid(row=3,column=0)\n",
    "e1=Entry(window,textvariable=ruta_origen ,width=85,fg=\"#13375B\",font=('Helvetica', 9))\n",
    "e1.grid(row=3,column=1)\n",
    "\n",
    "rd = StringVar(value=\"Escribe la ruta destino para los documentos\")\n",
    "l2=Label(window,text='Ruta Docs',fg=\"#13375B\", font=('Helvetica', 11), height=1, anchor=\"e\",width=20)\n",
    "l2.grid(row=4,column=0)\n",
    "e2=Entry(window,textvariable=rd ,width=85,fg=\"#13375B\",font=('Helvetica', 9))\n",
    "e2.grid(row=4,column=1)\n",
    "\n",
    "ri = StringVar(value=\"Escribe la ruta destino para las imágenes\")\n",
    "l3=Label(window,text='Ruta Imágenes',fg=\"#13375B\", font=('Helvetica', 11), height=1, anchor=\"e\",width=20)\n",
    "l3.grid(row=5,column=0)\n",
    "e3=Entry(window,textvariable=ri ,width=85,fg=\"#13375B\",font=('Helvetica', 9))\n",
    "e3.grid(row=5,column=1)\n",
    "\n",
    "rs = StringVar(value=\"Escribe la ruta destino para los archivos de software\")\n",
    "l4=Label(window,text='Ruta Software',fg=\"#13375B\", font=('Helvetica', 11), height=1, anchor=\"e\",width=20)\n",
    "l4.grid(row=6,column=0)\n",
    "e4=Entry(window,textvariable=rs ,width=85,fg=\"#13375B\",font=('Helvetica', 9))\n",
    "e4.grid(row=6,column=1)\n",
    "\n",
    "ro = StringVar(value=\"Escribe la ruta destino para lo que no sea lo anterior\")\n",
    "l5=Label(window,text='Ruta Otros',fg=\"#13375B\", font=('Helvetica', 11), height=1, anchor=\"e\",width=20)\n",
    "l5.grid(row=7,column=0)\n",
    "e5=Entry(window,textvariable=ro ,width=85,fg=\"#13375B\",font=('Helvetica', 9))\n",
    "e5.grid(row=7,column=1)\n",
    "\n",
    "b1 = Button(window,text='ORGANIZAR',width=10,height=1,bg='#13B833',fg='White',command=organiza_os,font=('Helvetica',11,'bold'))\n",
    "b1.place(x=350,y=175)\n",
    "\n",
    "window.grid_columnconfigure(6, minsize=120)\n",
    "window.grid_rowconfigure(8, minsize=120)\n",
    "window.mainloop()"
   ]
  },
  {
   "cell_type": "markdown",
   "metadata": {},
   "source": [
    "# Suthil"
   ]
  },
  {
   "cell_type": "code",
   "execution_count": 25,
   "metadata": {},
   "outputs": [],
   "source": [
    "def organiza_sh():\n",
    "\n",
    "    global ruta_origen,rd,ri,rs,ro\n",
    "    ruta_origen,rd,ri,rs,ro =e1.get(), e2.get(),e3.get(),e4.get(),e5.get()\n",
    "    nombres = os.listdir(ruta_origen)\n",
    "    documentos = (\".txt\",\".docx\",\".doc\",\".xlsx\",\".xls\",\".pptx\",\".ppt\",\".pdf\",\".csv\")\n",
    "    imagenes = (\".png\",\".jpg\",\".jpeg\",\".gif\",\".tif\",\".svg\",\".tiff\")\n",
    "    software = (\".exe\",\"pkg\",\".dmg\")\n",
    "\n",
    "    def comprobador_vacio():\n",
    "        \"\"\"comprueba que haya archivos que organizar en el directorio\"\"\"\n",
    "        counter = 0\n",
    "        for f in nombres:\n",
    "            path = f\"{ruta_origen}/{f}\"\n",
    "            check = os.path.isfile(path)\n",
    "            if check == True:\n",
    "                counter += 1\n",
    "        return counter\n",
    "        \n",
    "    def organizador_sh():\n",
    "\n",
    "        \"\"\"cambia los archivos en el directorio origen indicado a los directorios \n",
    "        destino que se establezca según la extensión de estos\"\"\"\n",
    "        \n",
    "        for nombre in nombres:\n",
    "            file = f\"{ruta_origen}/{nombre}\"\n",
    "            if os.path.isfile(file):\n",
    "                if nombre.lower().endswith(documentos):\n",
    "                    shutil.move(file,rd)\n",
    "                elif nombre.lower().endswith(imagenes):\n",
    "                    shutil.move(file,ri)\n",
    "                elif nombre.lower().endswith(software):\n",
    "                    shutil.move(file,rs)\n",
    "                else:\n",
    "                    shutil.move(file,ro)\n",
    "            else:\n",
    "                continue\n",
    "\n",
    "    vacio = comprobador_vacio()\n",
    "    if vacio != 0:\n",
    "        organizador_sh()\n",
    "        messagebox.showinfo(message=' ficheros organizados correctamente',title = 'Info')\n",
    "    else:\n",
    "        messagebox.showerror(message=\"El directorio no tiene archivos que organizar\",title=\"Info\")"
   ]
  },
  {
   "cell_type": "code",
   "execution_count": 26,
   "metadata": {},
   "outputs": [],
   "source": [
    "window= Tk()\n",
    "window.title(\"APLICACION\")\n",
    "window.geometry(\"800x275\")\n",
    "window.geometry(\"+{}+{}\".format(550,180))\n",
    "\n",
    "l1=Label(window,text='',fg=\"#13375B\", font=('Helvetica', 11,'bold'), height=1, anchor=\"e\",width=20)\n",
    "l1.grid(row=0)\n",
    "l1=Label(window,text='',fg=\"#13375B\", font=('Helvetica', 11,'bold'), height=1, anchor=\"e\",width=20)\n",
    "l1.grid(row=1)\n",
    "\n",
    "ruta_origen = StringVar(value = 'Escribe la ruta de origen a organizar')\n",
    "l1=Label(window,text='Ruta Origen',fg=\"#13375B\", font=('Helvetica', 11,'bold'), height=1, anchor=\"e\",width=20)\n",
    "l1.grid(row=3,column=0)\n",
    "e1=Entry(window,textvariable=ruta_origen ,width=85,fg=\"#13375B\",font=('Helvetica', 9))\n",
    "e1.grid(row=3,column=1)\n",
    "\n",
    "rd = StringVar(value=\"Escribe la ruta destino para los documentos\")\n",
    "l2=Label(window,text='Ruta Docs',fg=\"#13375B\", font=('Helvetica', 11), height=1, anchor=\"e\",width=20)\n",
    "l2.grid(row=4,column=0)\n",
    "e2=Entry(window,textvariable=rd ,width=85,fg=\"#13375B\",font=('Helvetica', 9))\n",
    "e2.grid(row=4,column=1)\n",
    "\n",
    "ri = StringVar(value=\"Escribe la ruta destino para las imágenes\")\n",
    "l3=Label(window,text='Ruta Imágenes',fg=\"#13375B\", font=('Helvetica', 11), height=1, anchor=\"e\",width=20)\n",
    "l3.grid(row=5,column=0)\n",
    "e3=Entry(window,textvariable=ri ,width=85,fg=\"#13375B\",font=('Helvetica', 9))\n",
    "e3.grid(row=5,column=1)\n",
    "\n",
    "rs = StringVar(value=\"Escribe la ruta destino para los archivos de software\")\n",
    "l4=Label(window,text='Ruta Software',fg=\"#13375B\", font=('Helvetica', 11), height=1, anchor=\"e\",width=20)\n",
    "l4.grid(row=6,column=0)\n",
    "e4=Entry(window,textvariable=rs ,width=85,fg=\"#13375B\",font=('Helvetica', 9))\n",
    "e4.grid(row=6,column=1)\n",
    "\n",
    "ro = StringVar(value=\"Escribe la ruta destino para lo que no sea lo anterior\")\n",
    "l5=Label(window,text='Ruta Otros',fg=\"#13375B\", font=('Helvetica', 11), height=1, anchor=\"e\",width=20)\n",
    "l5.grid(row=7,column=0)\n",
    "e5=Entry(window,textvariable=ro ,width=85,fg=\"#13375B\",font=('Helvetica', 9))\n",
    "e5.grid(row=7,column=1)\n",
    "\n",
    "b1 = Button(window,text='ORGANIZAR',width=10,height=1,bg='#13B833',fg='White',command=organiza_sh,font=('Helvetica',11,'bold'))\n",
    "b1.place(x=350,y=175)\n",
    "\n",
    "window.grid_columnconfigure(6, minsize=120)\n",
    "window.grid_rowconfigure(8, minsize=120)\n",
    "window.mainloop()"
   ]
  }
 ],
 "metadata": {
  "interpreter": {
   "hash": "dd49bfeaaa1489fd7fdbbb432490861b50b31f819b776685373338f77a8e6b14"
  },
  "kernelspec": {
   "display_name": "Python 3.9.5 ('the_bridge_22')",
   "language": "python",
   "name": "python3"
  },
  "language_info": {
   "codemirror_mode": {
    "name": "ipython",
    "version": 3
   },
   "file_extension": ".py",
   "mimetype": "text/x-python",
   "name": "python",
   "nbconvert_exporter": "python",
   "pygments_lexer": "ipython3",
   "version": "3.9.5"
  },
  "orig_nbformat": 4
 },
 "nbformat": 4,
 "nbformat_minor": 2
}
