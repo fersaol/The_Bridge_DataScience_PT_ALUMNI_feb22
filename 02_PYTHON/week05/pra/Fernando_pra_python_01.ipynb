{
 "cells": [
  {
   "cell_type": "markdown",
   "metadata": {},
   "source": [
    "### Pregunta 1\n",
    "\n",
    "¿Cuál es el valor final de a, b y c? (atención a los tipos de número decimal y entero)\n",
    "\n",
    "a = 5 * 11\n",
    "\n",
    "b = a / 2.\n",
    "\n",
    "c, a = b * 2, b + 1"
   ]
  },
  {
   "cell_type": "code",
   "execution_count": 4,
   "metadata": {},
   "outputs": [
    {
     "name": "stdout",
     "output_type": "stream",
     "text": [
      "28.5\n",
      "27.5\n",
      "55.0\n",
      "28.5\n"
     ]
    }
   ],
   "source": [
    "# Respuesta\n",
    "a = 5* 11\n",
    "b = a/2\n",
    "c,a = b * 2, b + 1\n",
    "print(a)\n",
    "print(b)\n",
    "print(c)\n",
    "print(a)\n",
    "# a es igual a 28,5 porque como python lee de arriba hacia abajo y de izquierda a derecha y estamos asignando un\n",
    "# nuevo valor a a, a tomará el último valor asignado.\n"
   ]
  },
  {
   "cell_type": "markdown",
   "metadata": {},
   "source": [
    "### Pregunta 2\n",
    "\n",
    "Identifica tres tipos de datos de Python y explica brevemente en qué se diferencian. Explica la diferencia entre el tipo lista y el tipo tupla."
   ]
  },
  {
   "cell_type": "code",
   "execution_count": 5,
   "metadata": {},
   "outputs": [
    {
     "name": "stdout",
     "output_type": "stream",
     "text": [
      "es el dato1 igual al dato2?, True\n"
     ]
    }
   ],
   "source": [
    "# Respuesta\n",
    "dato1 = 1\n",
    "dato2 = 1.0\n",
    "dato3 = True\n",
    "print(f\"es el dato1 igual al dato2?, {dato1 == dato2}\")\n",
    "# no son iguales porque python los almacena en memoria com un integer, o número entero, el dato1 y como un float, o\n",
    "# dato decimal, el dato2 y como vemos el dato3 tampoco es igual a los dos anteriores porque es un booleano que nos\n",
    "# indica si algo se cumple o no se cumple, si es verdadero o falso, y por tanto aunque puede 1 representar a True y\n",
    "# 0 a False, en su naturaleza escrito como True es distinto a los demás y representa veracidad o falsedad.\n",
    "\"\"\" por otra parte una lista no es igual a una tupla, y por tanto no tienen los mísmos métodos a utilizar puesto\n",
    "    que una lista es una colección de items ordenados, mutables y que pueden ser cambiados de posición, eliminados\n",
    "    o añadidos nuevos elementos a la misma y una tupla es una colección de elementos identificados mediante paréntesis\n",
    "    no mutables y ordenados, lo que quiere decir que no puede ser modificado el orden de los elementos, eliminados sus\n",
    "    elementos o añadidos nuevos elementos si no es asignando una nueva tupla a la variable que la contenga.\"\"\""
   ]
  },
  {
   "cell_type": "markdown",
   "metadata": {},
   "source": [
    "### Pregunta 3\n",
    "\n",
    "¿Cuál es el resultado de la operación lógica ` 'manzana'> 'casa'`? Explica por qué. \n",
    "\n",
    "**Nota**: Consultad en estándar [Unicode](https://es.wikipedia.org/wiki/Unicode) para la codificación de caracteres."
   ]
  },
  {
   "cell_type": "code",
   "execution_count": 6,
   "metadata": {},
   "outputs": [
    {
     "data": {
      "text/plain": [
       "True"
      ]
     },
     "execution_count": 6,
     "metadata": {},
     "output_type": "execute_result"
    }
   ],
   "source": [
    "# Respuesta\n",
    "\"manzana\" > \"casa\"\n",
    "\"\"\" Python usa la comparación carácter a carácter de unicode y ascii por lo que \n",
    "    empieza comparando el carácter 0 de manzana, que es m, con el carácter 0 de \n",
    "    casa, que es c, y determina si se cumple la condición. En este caso, que\n",
    "    m minúscula es mayor que c minúscula. Si la condición se cumple, pasa al \n",
    "    siguiente caracter, de tal manera que cuando se encuentra con uno que no lo\n",
    "    cumple simplemente devuelve False. La comparación además es case-sensitive\n",
    "    de manera que un caracter que tenga un valor inferior a otro en el código \n",
    "    de unicode lo tratará como menor. En nuestro caso, m tendrá un valor de \n",
    "    unicode mayor que c y por tanto devuelve True, m tiene el valor de unicode\n",
    "    U+006D y c tiene el valor de unicode U+0063\"\"\""
   ]
  },
  {
   "cell_type": "markdown",
   "metadata": {},
   "source": [
    "### Ejercicio 1\n",
    "\n",
    "Escribir un programa que seleccione la cadena \"analista\" a partir de la cadena: \"Ana es buena analista de datos.\". Mostrar el resultado por pantalla."
   ]
  },
  {
   "cell_type": "code",
   "execution_count": 7,
   "metadata": {},
   "outputs": [
    {
     "name": "stdout",
     "output_type": "stream",
     "text": [
      "analista\n"
     ]
    }
   ],
   "source": [
    "# Respuesta\n",
    "cadena = \"Ana es buena analista de datos\"\n",
    "\n",
    "if \"analista\" in cadena:\n",
    "    print(\"analista\")\n",
    "else:\n",
    "    print(\"analista no está en la cadena\")"
   ]
  },
  {
   "cell_type": "code",
   "execution_count": 8,
   "metadata": {},
   "outputs": [
    {
     "name": "stdout",
     "output_type": "stream",
     "text": [
      "analista no está en la cadena\n"
     ]
    }
   ],
   "source": [
    "cadena = \"Ana es buena con los datos\"\n",
    "\n",
    "if \"analista\" in cadena:\n",
    "    print(\"analista\")\n",
    "else:\n",
    "    print(\"analista no está en la cadena\")"
   ]
  },
  {
   "cell_type": "markdown",
   "metadata": {},
   "source": [
    "### Ejercicio 2\n",
    "\n",
    "Qué expresión en Python necesitamos para conseguir el _string_\n",
    "\"nohtyPythonython\" utilizando sólo la palabra \"Python\"? "
   ]
  },
  {
   "cell_type": "code",
   "execution_count": 18,
   "metadata": {},
   "outputs": [
    {
     "name": "stdout",
     "output_type": "stream",
     "text": [
      "nohtyPythonython\n"
     ]
    }
   ],
   "source": [
    "# Respuesta\n",
    "palabra = \"python\"\n",
    "print(palabra[:0:-1]+palabra.title()+palabra[1:])"
   ]
  },
  {
   "cell_type": "markdown",
   "metadata": {},
   "source": [
    "### Ejercicio 3\n",
    "\n",
    "Escribe un programa que asigne dos valores enteros cualquiera (elije un número entero aleatorio) a dos variables con nombre `a` y `b`. Utiliza las variables definidas anteriormente para evaluar la siguiente expresión matemática:\n",
    "\n",
    "( a<sup>2</sup> + b<sup>2</sup> )<sup>2</sup>\n"
   ]
  },
  {
   "cell_type": "code",
   "execution_count": 53,
   "metadata": {},
   "outputs": [
    {
     "name": "stdout",
     "output_type": "stream",
     "text": [
      "483254377225\n"
     ]
    }
   ],
   "source": [
    "# Respuesta\n",
    "import numpy as np\n",
    "a = np.random.randint(low=1,high=1000)\n",
    "b = np.random.randint(low=1,high=1000)\n",
    "print((a**2+b**2)**2)"
   ]
  },
  {
   "cell_type": "markdown",
   "metadata": {},
   "source": [
    "### Ejercicio 4\n",
    "\n",
    "Escribir un programa que calcule el volumen de una pirámide cuadrangular con una base de 4x5 metros de longitud y anchura respectivamente, y con una altura de 7,5 m. Recuerda que la fórmula para calcular el volumen es <img src=\"https://wikimedia.org/api/rest_v1/media/math/render/svg/5bbc1ec5d10639d395ebc85e74cbf697d2220035\" title=\"EquacioVolumPiramide\" />\n",
    "\n",
    "donde _l_ y _w_ son la longitud y la anchura de la base, y _h_ es la altura."
   ]
  },
  {
   "cell_type": "markdown",
   "metadata": {},
   "source": [
    "el volúmen de una pirámide cuadrangular se calcula con la fórmula\n",
    "$$v = (l*w*h)/3$$ \n",
    "por tanto:"
   ]
  },
  {
   "cell_type": "code",
   "execution_count": 59,
   "metadata": {},
   "outputs": [
    {
     "name": "stdout",
     "output_type": "stream",
     "text": [
      "el volúmen de la pirámide es 50.0 m^3\n"
     ]
    }
   ],
   "source": [
    "# Respuesta\n",
    "v = (4*5*7.5)/3\n",
    "print(f\"el volúmen de la pirámide es {round(v,2)} m^3\")"
   ]
  },
  {
   "cell_type": "markdown",
   "metadata": {},
   "source": [
    "### Ejercicio 5\n",
    "\n",
    "Escribe un programa que defina una lista con el nombre de todos los meses del año. Haz que muestre los meses que corresponden a otoño."
   ]
  },
  {
   "cell_type": "code",
   "execution_count": 63,
   "metadata": {},
   "outputs": [
    {
     "name": "stdout",
     "output_type": "stream",
     "text": [
      "['Octubre', 'Noviembre', 'Diciembre']\n"
     ]
    }
   ],
   "source": [
    "# Respuesta\n",
    "meses = [\"Enero\",\"Febrero\",\"Marzo\",\"Abril\",\"Mayo\",\"Junio\",\"Julio\",\"Agosto\",\n",
    "        \"Septiembre\",\"Octubre\",\"Noviembre\",\"Diciembre\"]\n",
    "autum = meses[9:]\n",
    "print(autum)"
   ]
  },
  {
   "cell_type": "markdown",
   "metadata": {},
   "source": [
    "### Ejercicio 6\n",
    "\n",
    "Escribe un programa que a partir de la lista de números dada muestre por pantalla una cadena de caracteres con todos los números, separados entre sí por un guión, y duplicando el primero y el último elemento de la lista.\n",
    "\n",
    "Así, por ejemplo, para la lista ['1', '2', '3'] , el programa debería mostrar la cadena: '1-1-2-3-3'.\n"
   ]
  },
  {
   "cell_type": "code",
   "execution_count": 128,
   "metadata": {},
   "outputs": [
    {
     "name": "stdout",
     "output_type": "stream",
     "text": [
      "1-1-2-3-3\n"
     ]
    }
   ],
   "source": [
    "# Respuesta\n",
    "lista = [\"1\",\"2\",\"3\"]\n",
    "\n",
    "lista.insert(0,lista[0])\n",
    "lista.append(lista[len(lista)-1])\n",
    "nueva_lista = \"-\".join(lista)\n",
    "print(nueva_lista)"
   ]
  },
  {
   "cell_type": "markdown",
   "metadata": {},
   "source": [
    "### Ejercicio 7\n",
    "\n",
    "Ordena la siguiente lista de cadenas de caracteres:\n",
    "\n",
    "1. Invirtiendo el orden original\n",
    "2. En orden alfabético inverso\n",
    "\n",
    "**Nota**: Puedes consultar la documentación oficial de la función [`sorted ()`](https://docs.python.org/3/library/functions.html#sorted) para ver qué parámetros puedes utilizar para resolver la segunda parte de la actividad.\n"
   ]
  },
  {
   "cell_type": "code",
   "execution_count": 135,
   "metadata": {},
   "outputs": [
    {
     "name": "stdout",
     "output_type": "stream",
     "text": [
      "['Jadzia Dax', 'Quark', 'Odo', 'Kira Nerys', 'Benjamin Sisko']\n",
      "['Quark', 'Odo', 'Kira Nerys', 'Jadzia Dax', 'Benjamin Sisko']\n",
      "['Quark', 'Odo', 'Kira Nerys', 'Jadzia Dax', 'Benjamin Sisko']\n"
     ]
    }
   ],
   "source": [
    "st_chars = [\"Benjamin Sisko\", \"Kira Nerys\", \"Odo\", \"Quark\", \"Jadzia Dax\"]\n",
    "st_chars_inv = st_chars[::-1]\n",
    "st_cars_alf = sorted(st_chars,reverse=True)\n",
    "st_chars_alf = sorted(st_chars)[::-1]\n",
    "\n",
    "print(st_chars_inv)\n",
    "print(st_cars_alf)\n",
    "print(st_chars_alf)"
   ]
  },
  {
   "cell_type": "markdown",
   "metadata": {},
   "source": [
    "### Ejercicio 8\n",
    "\n",
    "A partir de la siguiente lista,\n",
    "\n",
    "```A_list = [42, 7.5, \"Answer to the Ultimate Question\", \"Dave\", 7.5]```\n",
    "\n",
    "proporciona expresiones que retornen:\n",
    "\n",
    "1. El número de veces que aparece el elemento `7.5` en la lista.\n",
    "2. La posición de la primera aparición del valor `7.5`.\n",
    "3. La misma lista sin el último elemento.\n",
    "\n",
    "**Nota**: En el notebook de teoría hemos visto que son las listas y algunas operaciones sobre ellas. Para hacer la actividad, necesitaréis investigar algunas operaciones adicionales que podemos realizar sobre listas. Para ello podéis consultar la documentación oficial de Python sobre listas ([intro](https://docs.python.org/3/tutorial/introduction.html#lists) y [más sobre listas](https://docs.python.org/3/tutorial/datastructures.html#more-on-lists))."
   ]
  },
  {
   "cell_type": "code",
   "execution_count": 140,
   "metadata": {},
   "outputs": [
    {
     "name": "stdout",
     "output_type": "stream",
     "text": [
      "2\n",
      "**********\n",
      "1\n",
      "**********\n",
      "[42, 7.5, 'Answer to the Ultimate Question', 'Dave']\n"
     ]
    }
   ],
   "source": [
    "# Respuesta\n",
    "A_list = [42, 7.5, \"Answer to the Ultimate Question\", \"Dave\", 7.5]\n",
    "# el número de veces que aparece 7.5 en la lista:\n",
    "print(A_list.count(7.5))\n",
    "print(\"*\"*10)\n",
    "# la posición de la primera aparición de 7.5 en la lista:\n",
    "print(A_list.index(7.5))\n",
    "print(\"*\"*10)\n",
    "# la misma lista sin el último elemento:\n",
    "print(A_list[:len(A_list)-1])"
   ]
  },
  {
   "cell_type": "markdown",
   "metadata": {},
   "source": [
    "### Ejercicio 9\n",
    "\n",
    "¿Qué expresión en Python necesitamos para conseguir la _string_ `Learning Python` utilizando sólo las variables` str1` y `str2` definidas?"
   ]
  },
  {
   "cell_type": "code",
   "execution_count": 142,
   "metadata": {},
   "outputs": [
    {
     "name": "stdout",
     "output_type": "stream",
     "text": [
      "Learning Python\n"
     ]
    }
   ],
   "source": [
    "# Respuesta\n",
    "# necesitamos el operador suma para concatenar strings:\n",
    "str1 = \"Learning\"\n",
    "str2 = \"Python\"\n",
    "str3 = str1 + \" \" + str2\n",
    "print(str3)"
   ]
  },
  {
   "cell_type": "code",
   "execution_count": 144,
   "metadata": {},
   "outputs": [
    {
     "name": "stdout",
     "output_type": "stream",
     "text": [
      "Learning Python\n"
     ]
    }
   ],
   "source": [
    "# o podemos usar la función format:\n",
    "str4 = \"{} {}\".format(str1,str2)\n",
    "print(str4)"
   ]
  },
  {
   "cell_type": "code",
   "execution_count": 145,
   "metadata": {},
   "outputs": [
    {
     "name": "stdout",
     "output_type": "stream",
     "text": [
      "Learning Python\n"
     ]
    }
   ],
   "source": [
    "# también podemos usar la nueva función format:\n",
    "str5 = f\"{str1} {str2}\"\n",
    "print(str5)"
   ]
  },
  {
   "cell_type": "code",
   "execution_count": 146,
   "metadata": {},
   "outputs": [
    {
     "name": "stdout",
     "output_type": "stream",
     "text": [
      "Learning Python\n"
     ]
    }
   ],
   "source": [
    "# también funcionaria:\n",
    "print(str1, str2)"
   ]
  },
  {
   "cell_type": "markdown",
   "metadata": {},
   "source": [
    "### Ejercicio 10\n",
    "\n",
    "El codigo que se presenta a continuación no funciona: \n",
    "\n",
    "Corrige el error y explica por qué sucede."
   ]
  },
  {
   "cell_type": "code",
   "execution_count": 158,
   "metadata": {},
   "outputs": [
    {
     "name": "stdout",
     "output_type": "stream",
     "text": [
      "Hello, my name is Alex and I'm 20 years old!\n"
     ]
    }
   ],
   "source": [
    "name = \"Alex\"\n",
    "\n",
    "age = 20\n",
    "\n",
    "print(\"Hello, my name is %s and I'm %d years old!\" % (name, age))\n",
    "\n",
    "\"\"\" el error estaba en que el c-specifier de la variable name estaba mal puesto. ya que se estaba diciendo que esta\n",
    "    variable era un unsigned integer, representado con %d, cuando lo que tenemos es un string, que se representa con,\n",
    "    %s,al cambiarlo, se imprime correctamente\"\"\""
   ]
  },
  {
   "cell_type": "markdown",
   "metadata": {},
   "source": [
    "### Ejercicio 11\n",
    "\n",
    "En este ejercicio utilizaremos la frase: La paciencia es la madre de la ciencia.\n",
    "\n",
    "a) Extrae las palabras paciencia y ciencia de la cadena de strings definida anteriormente.\n",
    "\n",
    "b) Crea la palabra ciencia a partir de paciencia, y la palabra paciencia a partir de ciencia.\n",
    "\n",
    "c) Separa la frase en las diferentes palabras que la forman (e.g. \"La\", \"paciencia,\" es \", etc). ¿Cuál es el separador que debemos usar?\n",
    "\n",
    "d) Vuelve a unir los elementos de la frase mediante \"-\" (e.g. \"La-paciencia-es ...\").\n"
   ]
  },
  {
   "cell_type": "code",
   "execution_count": 175,
   "metadata": {},
   "outputs": [
    {
     "name": "stdout",
     "output_type": "stream",
     "text": [
      "paciencia\n",
      "ciencia\n",
      "['La', 'paciencia', 'es', 'la', 'madre', 'de', 'la', 'ciencia']\n"
     ]
    }
   ],
   "source": [
    "# Respuesta\n",
    "frase = \"La paciencia es la madre de la ciencia.\"\n",
    "# a. Extrae las palabras paciencia y ciencia:\n",
    "frase = frase.replace(\".\",\"\")\n",
    "frase_list = frase.split(\" \")\n",
    "var1 = \"\"\n",
    "var2 = \"\"\n",
    "\n",
    "for i in range(len(frase_list)):\n",
    "    if frase_list[i] == \"paciencia\":\n",
    "        var1 = frase_list[i]\n",
    "    if frase_list[i] == \"ciencia\":\n",
    "        var2 = frase_list[i]\n",
    "print(var1)\n",
    "print(var2)\n",
    "print(frase_list)\n"
   ]
  },
  {
   "cell_type": "code",
   "execution_count": 177,
   "metadata": {},
   "outputs": [
    {
     "name": "stdout",
     "output_type": "stream",
     "text": [
      "ciencia\n",
      "paciencia\n"
     ]
    }
   ],
   "source": [
    "# crea la palabra ciencia a partir de paciencia y paciencia a partir de ciencia:\n",
    "var1_1 = var1.replace(\"pa\",\"\")\n",
    "var2_2 = \"pa\" + var2\n",
    "\n",
    "print(var1_1)\n",
    "print(var2_2)"
   ]
  },
  {
   "cell_type": "code",
   "execution_count": 178,
   "metadata": {},
   "outputs": [
    {
     "name": "stdout",
     "output_type": "stream",
     "text": [
      "['La', 'paciencia', 'es', 'la', 'madre', 'de', 'la', 'ciencia']\n"
     ]
    }
   ],
   "source": [
    "# separa la frase en las diferentes palabras que la forman\n",
    "# para ello nos creamos una lista de palabras separandolas mediante el espacio que hay entre ellas:\n",
    "print(frase_list)"
   ]
  },
  {
   "cell_type": "code",
   "execution_count": 186,
   "metadata": {},
   "outputs": [
    {
     "name": "stdout",
     "output_type": "stream",
     "text": [
      "La-paciencia-es-la-madre-de-la-ciencia.\n",
      "La paciencia es la madre de la ciencia.\n"
     ]
    }
   ],
   "source": [
    "# después las volvemos a unir con el método .join, usando un \"-\" entre ellas:\n",
    "print(\"-\".join(frase_list)+\".\")\n",
    "# y la guardamos de nuevo en una variable tal como estaba:\n",
    "mi_frase = \" \".join(frase_list)+\".\"\n",
    "print(mi_frase)"
   ]
  }
 ],
 "metadata": {
  "interpreter": {
   "hash": "3a457f06cda4579c7033761bf4e886c4764e74b759b9220f07c03aa5d4880471"
  },
  "kernelspec": {
   "display_name": "Python 3.9.5 ('data_science_py395')",
   "language": "python",
   "name": "python3"
  },
  "language_info": {
   "codemirror_mode": {
    "name": "ipython",
    "version": 3
   },
   "file_extension": ".py",
   "mimetype": "text/x-python",
   "name": "python",
   "nbconvert_exporter": "python",
   "pygments_lexer": "ipython3",
   "version": "3.10.1"
  },
  "orig_nbformat": 4
 },
 "nbformat": 4,
 "nbformat_minor": 2
}
