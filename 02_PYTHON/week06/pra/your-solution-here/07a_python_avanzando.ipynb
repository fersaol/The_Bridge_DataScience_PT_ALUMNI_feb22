{
 "cells": [
  {
   "cell_type": "markdown",
   "metadata": {},
   "source": [
    "Programación para *Data Science*\n",
    "============================\n",
    "\n",
    "Intro101 - 07a Conceptos avanzados de Python\n",
    "--------------------------------------\n",
    "\n",
    "En este Notebook encontraréis dos conjuntos de ejercicios de Python."
   ]
  },
  {
   "cell_type": "markdown",
   "metadata": {},
   "source": [
    "### Ejercicio 1\n",
    "\n",
    "Un número primo es aquél que solo es divisible por él mismo y por 1.\n",
    "\n",
    "a) Escribe un código que compruebe si un número `x = 15` es solo divisible por 1 o por el mismo.  Escribe este código usando un iterador (un `for` o un `while`) que barra todos los valores desde `2` a `x-1`. Crea una variable `divisible`  que tenga por defecto valor `False` y asigne el valor `True` si a lo largo de la iteración encuentra un número natural divisible. Puedes usar el operador modulo `a % b` para saber si un numero `b` es divisible por `a`."
   ]
  },
  {
   "cell_type": "code",
   "execution_count": 3,
   "metadata": {},
   "outputs": [
    {
     "name": "stdout",
     "output_type": "stream",
     "text": [
      "True 3\n",
      "True 5\n"
     ]
    }
   ],
   "source": [
    "# Respuesta\n",
    "\n",
    "x = 15                      # creamos la variable a comprobar\n",
    "divisible = False           # creamos una variable de chequeo\n",
    "\n",
    "for i in range(2,x-1):      # mediante un bucle for recorremos los números desde\n",
    "    if x % i == 0:          # el 2 hasta un número antes de él mismo y vemos si\n",
    "        divisible = True    # tiene algún divisor distinto a 0, si los tiene no\n",
    "        print(divisible,i)  # es primo "
   ]
  },
  {
   "cell_type": "markdown",
   "metadata": {},
   "source": [
    "b) Convierte tu código anterior en una función que compruebe si el número del argumento es primo o no, devolviendo True is es primo y False si no es primo. Comprueba tu función con los valores 492366587, 492366585, 48947 y 2,\n"
   ]
  },
  {
   "cell_type": "code",
   "execution_count": 1,
   "metadata": {},
   "outputs": [
    {
     "name": "stdout",
     "output_type": "stream",
     "text": [
      "False\n"
     ]
    }
   ],
   "source": [
    "# Respuesta\n",
    "# usamos el mismo código anterior pero lo metemos dentro de una función\n",
    "# en este caso hacemos print porque queremos que lo muestre simplemente\n",
    "def primos(numero):\n",
    "    x = numero\n",
    "    divisible = False\n",
    "\n",
    "    for i in range(2,x-1):\n",
    "        if x % i == 0:\n",
    "            divisible = True\n",
    "    print(divisible)\n",
    "\n",
    "primos(48947)"
   ]
  },
  {
   "cell_type": "code",
   "execution_count": 11,
   "metadata": {},
   "outputs": [
    {
     "name": "stdout",
     "output_type": "stream",
     "text": [
      "False\n"
     ]
    }
   ],
   "source": [
    "primos(492366587)"
   ]
  },
  {
   "cell_type": "code",
   "execution_count": 12,
   "metadata": {},
   "outputs": [
    {
     "name": "stdout",
     "output_type": "stream",
     "text": [
      "False\n"
     ]
    }
   ],
   "source": [
    "primos(2)"
   ]
  },
  {
   "cell_type": "code",
   "execution_count": 13,
   "metadata": {},
   "outputs": [
    {
     "name": "stdout",
     "output_type": "stream",
     "text": [
      "True\n"
     ]
    }
   ],
   "source": [
    "primos(15)"
   ]
  },
  {
   "cell_type": "code",
   "execution_count": 14,
   "metadata": {},
   "outputs": [
    {
     "name": "stdout",
     "output_type": "stream",
     "text": [
      "True\n"
     ]
    }
   ],
   "source": [
    "primos(492366585)"
   ]
  },
  {
   "cell_type": "markdown",
   "metadata": {},
   "source": [
    "c) En el cálculo de la función anterior, una vez se ha encontrado un número que es divisible dentro del rango ya no tiene sentido comprobar el resto de números del rango. Por ejemplo si 10 ya es divisble entre 2, ya no hace falta probar de 3 en adelante pues ya sabemos que el número no es primo. \n",
    "\n",
    "Modifica la función anterior de la siguiente forma: \n",
    "- Una vez se encuentra el divisor, la iteración se interrumpe para no probar el resto de enteros. \n",
    "- La función devuelve\n",
    "    - **Si es primo**: True\n",
    "    - **Si no es primo**, el primer divisor mayor que 1.\n",
    "    \n",
    "Puedes hacer uso del comando *break* dentro de un bucle para interrumpir este, puedes consultar más información sobre break en la documentación de python [aquí](https://docs.python.org/2/tutorial/controlflow.html).\n",
    "\n",
    "Comprueba tu función con los valores 492366585, 492366587, 48947 y 2,"
   ]
  },
  {
   "cell_type": "code",
   "execution_count": 6,
   "metadata": {},
   "outputs": [],
   "source": [
    "# respuesta\n",
    "# modificamos la función anterior de tal manera que ahora la variable a comprobar\n",
    "# es el argumento que se pone en la llamada de la función y con un if-else, si\n",
    "# el número es primo devolverá True y si no, el primer no primo con False.\n",
    "def primo(numero):\n",
    "    x = numero\n",
    "    divisible = False\n",
    "\n",
    "    for i in range(2,x-1):\n",
    "        if x % i == 0:\n",
    "            divisible = True\n",
    "            break\n",
    "        else:\n",
    "            print(i, end=\", \")\n",
    "            break\n",
    "    print(divisible)"
   ]
  },
  {
   "cell_type": "code",
   "execution_count": 19,
   "metadata": {},
   "outputs": [
    {
     "name": "stdout",
     "output_type": "stream",
     "text": [
      "True\n"
     ]
    }
   ],
   "source": [
    "primo(492366585)"
   ]
  },
  {
   "cell_type": "code",
   "execution_count": 7,
   "metadata": {},
   "outputs": [
    {
     "name": "stdout",
     "output_type": "stream",
     "text": [
      "2, False\n"
     ]
    }
   ],
   "source": [
    "primo(492366587)"
   ]
  },
  {
   "cell_type": "markdown",
   "metadata": {},
   "source": [
    "### Ejercicio 2\n",
    "\n",
    "La Covid-19 es una enfermedad producida por la infección del virus SARS-CoV-2. La infección es transmisible de persona a persona y su contagiosidad depende de la cantidad del virus en las vías respiratorias. Si cada persona contagiada transmite la enfermedad a $\\beta$ contactos en promedio por periodo de tiempo $t$, es posible estimar la evolución del contagio con un modelo matemático sencillo.\n",
    "\n",
    "Para $t=1$día, las transmisiones en España se han estimado a partir de su histórico de las semanas de Febrero y Marzo del 2020 una $\\beta = 0.35$ transmissiones por día por infectado.\n",
    "\n",
    "Durante un periodo de tiempo (por ejempo un día $d$) la tasa de nuevos contagios se puede estimar como  una proporción al número de contagiados del periodo anterior $N$: \n",
    "\n",
    "$ \\Delta N = N_{1} - N = \\beta \\cdot $ (1)\n",
    "\n",
    "Por tanto, podemos proyectar el número futuro de afectados como \n",
    "\n",
    "$ N_{1} = N + \\beta \\cdot N = (1+\\beta) \\cdot $ (2) \n",
    "\n",
    "En dos días:\n",
    "\n",
    "$ N_{2} = (1+\\beta) \\cdot N_{1} = (1+\\beta)^2 \\cdot $  (3)\n",
    "\n",
    "Y en general en D días tendremos \n",
    "\n",
    "$ N_{D} = (1+\\beta)^D \\cdot N$  (4)\n",
    " \n",
    "Asumiendo este sencillo modelo: \n",
    "\n",
    "a) Implementa una función de dos parámetros (N: población infectada inicial, D: número de días), que devuelva el cálculo de afectados para D días siguiendo la ecuación (4). Suponiendo una población afectada de 4250 (población afectada en españa a día 13 de Marzo de 2020), usa la función para calcular la población estimada en 1, 2, 7 y 30 días. "
   ]
  },
  {
   "cell_type": "code",
   "execution_count": 10,
   "metadata": {},
   "outputs": [],
   "source": [
    "# Respuesta\n",
    "\n",
    "def prevision_covid(infectados,dias): # establecemos los argumentos\n",
    "\n",
    "    \"\"\" función que nos realiza una previsiónd e las personas que se van a\n",
    "    infectar por covid.\n",
    "    ---------------------------------\n",
    "    args: infectados = int, días = int\"\"\"\n",
    "    \n",
    "    prediccion = ((1 + 0.35 )**dias)*infectados # creamos la función con los argumentos\n",
    "    return int(prediccion) # devolvemos el resultado como integer porque estamos\n",
    "                           # hablando de personas y no pueden ser float. \n"
   ]
  },
  {
   "cell_type": "code",
   "execution_count": 11,
   "metadata": {},
   "outputs": [
    {
     "data": {
      "text/plain": [
       "5737"
      ]
     },
     "execution_count": 11,
     "metadata": {},
     "output_type": "execute_result"
    }
   ],
   "source": [
    "prediccion1 = prevision_covid(4250,1)\n",
    "prediccion1"
   ]
  },
  {
   "cell_type": "code",
   "execution_count": 12,
   "metadata": {},
   "outputs": [
    {
     "data": {
      "text/plain": [
       "7745"
      ]
     },
     "execution_count": 12,
     "metadata": {},
     "output_type": "execute_result"
    }
   ],
   "source": [
    "prediccion2 = prevision_covid(4250,2)\n",
    "prediccion2"
   ]
  },
  {
   "cell_type": "code",
   "execution_count": 13,
   "metadata": {},
   "outputs": [
    {
     "data": {
      "text/plain": [
       "34731"
      ]
     },
     "execution_count": 13,
     "metadata": {},
     "output_type": "execute_result"
    }
   ],
   "source": [
    "prediccion7 = prevision_covid(4250,7)\n",
    "prediccion7"
   ]
  },
  {
   "cell_type": "code",
   "execution_count": 14,
   "metadata": {},
   "outputs": [
    {
     "data": {
      "text/plain": [
       "34546335"
      ]
     },
     "execution_count": 14,
     "metadata": {},
     "output_type": "execute_result"
    }
   ],
   "source": [
    "prediccion30 = prevision_covid(4250,30)\n",
    "prediccion30"
   ]
  },
  {
   "cell_type": "markdown",
   "metadata": {},
   "source": [
    "b) Sabiendo que los Servicios de Medicina Intensiva (SMI) disponen de 3363 camas para enfermos graves, y suponiendo que un 10% de los afectados por el covid-19 requerirán de SMI y una supervivencia del 2,5% (Exitus), escribe un código que calcule:\n",
    "- El día en curso (Día)\n",
    "- El total de afectados por el virus para cada día d (Afectados)\n",
    "- El total de ingresados en SMI por el virus para cada día d (Críticos)\n",
    "- El total de Exitus por el virus para cada día d (Exitus)\n",
    "- Si los servicios de SMI no pueden aceptar los ingresados para cada día $d$ (Estado: indicando Saturación/No Saturación)\n",
    "\n",
    "Imprime en pantalla la información de cada día durante una simulación de tres semanas, suponiendo que no hay recuperaciones, con una población afectada inicial 4250 y una $\\beta = 0.35$ constante. "
   ]
  },
  {
   "cell_type": "code",
   "execution_count": 15,
   "metadata": {},
   "outputs": [
    {
     "name": "stdout",
     "output_type": "stream",
     "text": [
      "21-03-2022\n"
     ]
    }
   ],
   "source": [
    "# Respuesta\n",
    "# importamos la librería que necesitamos para tener el día de hoy actualizado\n",
    "from datetime import date\n",
    "# creamos una variable con el día de hoy y la formateamos según formato español\n",
    "today = date.today().strftime(\"%d-%m-%Y\")\n",
    "print(today)\n",
    "                "
   ]
  },
  {
   "cell_type": "code",
   "execution_count": 16,
   "metadata": {},
   "outputs": [],
   "source": [
    "# usamos la función que creamos anteriormente para la previsión de infectados\n",
    "prediccion_infectados = prevision_covid(4250,1)"
   ]
  },
  {
   "cell_type": "code",
   "execution_count": 17,
   "metadata": {},
   "outputs": [],
   "source": [
    "# creamos una función que con la ayuda de la anterior nos dice la previsión de\n",
    "# servicios de smi que vamos a necesitar\n",
    "def prevision_smi(afectados, dias=1):\n",
    "\n",
    "    \"\"\"función que nos realiza una previsión de los servicios de smi que vamos\n",
    "    a necesitar\n",
    "    ----------------------------------\n",
    "    args: afectados = int, dias = int\"\"\"\n",
    "\n",
    "    if dias > 1: # comprobamos si los días a preveér son más de uno para usar un bucle for\n",
    "        previsiones_smi = [] # creamos una lista vacía para almacenar los datos obtenidos\n",
    "        for i in range(1,dias + 1): # el bucle irá de 1 hasta dias + 1 porque el último dato\n",
    "            infectados = prevision_covid(afectados,i) # del range no está incluido y no hay\n",
    "            prediccion_smi = int(infectados*0.1) # días 0, aplicamos la predicción que se \n",
    "            previsiones_smi.append(prediccion_smi) # guarda en una variable y se mete en la lista\n",
    "        return previsiones_smi\n",
    "\n",
    "    else:  # si solo es un día simplemente realizamos la previsión con la fórmula y la mostramos\n",
    "        infectados = prevision_covid(afectados,1)\n",
    "        prediccion_smi = infectados*0.1\n",
    "        return int(prediccion_smi) # se formatea como integer porque no puede haber personas decimales"
   ]
  },
  {
   "cell_type": "code",
   "execution_count": 18,
   "metadata": {},
   "outputs": [
    {
     "data": {
      "text/plain": [
       "774"
      ]
     },
     "execution_count": 18,
     "metadata": {},
     "output_type": "execute_result"
    }
   ],
   "source": [
    "prevision_smi(prediccion_infectados,1)"
   ]
  },
  {
   "cell_type": "code",
   "execution_count": 19,
   "metadata": {},
   "outputs": [],
   "source": [
    "def exitus(afectados):\n",
    "    \"\"\"función que nos estima los pacientes que se salvan una vez han entrado\n",
    "    al servicio de smi\n",
    "    ----------------------------------\n",
    "    args: afectados = int\"\"\"\n",
    "\n",
    "    posibles = prevision_smi(afectados) # usamos las posibles personas al exito con la función\n",
    "    exitus_inf = posibles*0.25 # realizamos la previsión de las personas con posible éxito\n",
    "    return int(exitus_inf) # devolvemos el resultado como un integer al estar hablando de personas"
   ]
  },
  {
   "cell_type": "code",
   "execution_count": 20,
   "metadata": {},
   "outputs": [
    {
     "data": {
      "text/plain": [
       "193"
      ]
     },
     "execution_count": 20,
     "metadata": {},
     "output_type": "execute_result"
    }
   ],
   "source": [
    "exitus(prediccion_infectados)"
   ]
  },
  {
   "cell_type": "code",
   "execution_count": 31,
   "metadata": {},
   "outputs": [],
   "source": [
    "def capacidad_hospital(entrada=0,salida=0):\n",
    "\n",
    "    \"\"\"función que nos indica el estado del hospital como saturado o no saturado\n",
    "    y que nos dice cuántas camas tenemos disponibles o nos faltan\n",
    "    --------------------\n",
    "    args: entrada = int, salida = int\"\"\"\n",
    "\n",
    "    capacidad_hospital = 3363 # definimos el valor fijo de la capacidad del hospital\n",
    "    ingresados = 0 # establecemos nuestra variable de control de pacientes\n",
    "    estado = \"no saturado\" # creamas una variable de control del estado\n",
    "    \n",
    "    ingresados += entrada # nos sumará pacientes al hospital si ingresan\n",
    "    ingresados -= salida # nos restará pacientes al hospital si salen\n",
    "    camas = capacidad_hospital - ingresados # nos dirá las camas disponibles o no\n",
    "\n",
    "    if capacidad_hospital > ingresados: # controlará el estado a mostrar y las \n",
    "        pass                            # camas según nuestras variables\n",
    "        print(f\"nos quedan {camas} camas\")\n",
    "    else:\n",
    "        estado = \"saturado\"             # si se satura el hospital cambia la variable\n",
    "        print(f\"nos faltan {abs(camas)} camas\")\n",
    "    \n",
    "    return estado\n"
   ]
  },
  {
   "cell_type": "code",
   "execution_count": 32,
   "metadata": {},
   "outputs": [
    {
     "name": "stdout",
     "output_type": "stream",
     "text": [
      "nos faltan 637 camas\n"
     ]
    },
    {
     "data": {
      "text/plain": [
       "'saturado'"
      ]
     },
     "execution_count": 32,
     "metadata": {},
     "output_type": "execute_result"
    }
   ],
   "source": [
    "capacidad_hospital(6000,2000)"
   ]
  },
  {
   "cell_type": "code",
   "execution_count": 21,
   "metadata": {},
   "outputs": [
    {
     "name": "stdout",
     "output_type": "stream",
     "text": [
      "[5737, 7745, 10456, 14116, 19057, 25727, 34731, 46887, 63298, 85452, 115361, 155737, 210246, 283832, 383173, 517284, 698333, 942750, 1272713, 1718162, 2319519]\n"
     ]
    }
   ],
   "source": [
    "proyeccion_infectados = []\n",
    "for i in range(1,(3*7)+1):\n",
    "    proyeccion_infectados.append(prevision_covid(4250,i))\n",
    "print(proyeccion_infectados)"
   ]
  },
  {
   "cell_type": "code",
   "execution_count": 32,
   "metadata": {},
   "outputs": [],
   "source": [
    "criticos = prevision_smi(4250,(3*7))"
   ]
  },
  {
   "cell_type": "code",
   "execution_count": 23,
   "metadata": {},
   "outputs": [
    {
     "name": "stdout",
     "output_type": "stream",
     "text": [
      "[193, 261, 352, 476, 643, 868, 1172, 1582, 2136, 2884, 3893, 5256, 7095, 9579, 12932, 17458, 23568, 31817, 42954, 57987, 78283]\n"
     ]
    }
   ],
   "source": [
    "proyeccion_exitus = []\n",
    "\n",
    "for i in range(len(proyeccion_infectados)):\n",
    "    ex = exitus(proyeccion_infectados[i])\n",
    "    proyeccion_exitus.append(ex)\n",
    "print(proyeccion_exitus)"
   ]
  },
  {
   "cell_type": "code",
   "execution_count": 33,
   "metadata": {},
   "outputs": [
    {
     "ename": "NameError",
     "evalue": "name 'proyeccion_exitus' is not defined",
     "output_type": "error",
     "traceback": [
      "\u001b[1;31m---------------------------------------------------------------------------\u001b[0m",
      "\u001b[1;31mNameError\u001b[0m                                 Traceback (most recent call last)",
      "\u001b[1;32mc:\\Users\\ferna\\OneDrive\\Documentos\\GitHub\\The_Bridge_DataScience_PT_ALUMNI_feb22\\02_PYTHON\\week06\\pra\\your-solution-here\\07a_python_avanzando.ipynb Cell 32'\u001b[0m in \u001b[0;36m<module>\u001b[1;34m\u001b[0m\n\u001b[0;32m      <a href='vscode-notebook-cell:/c%3A/Users/ferna/OneDrive/Documentos/GitHub/The_Bridge_DataScience_PT_ALUMNI_feb22/02_PYTHON/week06/pra/your-solution-here/07a_python_avanzando.ipynb#ch0000031?line=1'>2</a>\u001b[0m ingresados \u001b[39m=\u001b[39m \u001b[39m0\u001b[39m\n\u001b[0;32m      <a href='vscode-notebook-cell:/c%3A/Users/ferna/OneDrive/Documentos/GitHub/The_Bridge_DataScience_PT_ALUMNI_feb22/02_PYTHON/week06/pra/your-solution-here/07a_python_avanzando.ipynb#ch0000031?line=2'>3</a>\u001b[0m estado \u001b[39m=\u001b[39m []\n\u001b[1;32m----> <a href='vscode-notebook-cell:/c%3A/Users/ferna/OneDrive/Documentos/GitHub/The_Bridge_DataScience_PT_ALUMNI_feb22/02_PYTHON/week06/pra/your-solution-here/07a_python_avanzando.ipynb#ch0000031?line=3'>4</a>\u001b[0m \u001b[39mfor\u001b[39;00m i \u001b[39min\u001b[39;00m \u001b[39mrange\u001b[39m(\u001b[39mlen\u001b[39m(proyeccion_exitus)):\n\u001b[0;32m      <a href='vscode-notebook-cell:/c%3A/Users/ferna/OneDrive/Documentos/GitHub/The_Bridge_DataScience_PT_ALUMNI_feb22/02_PYTHON/week06/pra/your-solution-here/07a_python_avanzando.ipynb#ch0000031?line=4'>5</a>\u001b[0m     ingresados \u001b[39m+\u001b[39m\u001b[39m=\u001b[39m proyeccion_exitus[i]\n\u001b[0;32m      <a href='vscode-notebook-cell:/c%3A/Users/ferna/OneDrive/Documentos/GitHub/The_Bridge_DataScience_PT_ALUMNI_feb22/02_PYTHON/week06/pra/your-solution-here/07a_python_avanzando.ipynb#ch0000031?line=5'>6</a>\u001b[0m     \u001b[39mif\u001b[39;00m capacidad_hospital \u001b[39m>\u001b[39m ingresados:\n",
      "\u001b[1;31mNameError\u001b[0m: name 'proyeccion_exitus' is not defined"
     ]
    }
   ],
   "source": [
    "capacidad_hospital = 3363\n",
    "ingresados = 0\n",
    "estado = []\n",
    "for i in range(len(proyeccion_exitus)):\n",
    "    ingresados += proyeccion_exitus[i]\n",
    "    if capacidad_hospital > ingresados:\n",
    "        estado.append(\"no saturado\")\n",
    "    else:\n",
    "        estado.append(\"saturado\")\n",
    "\n",
    "print(estado)"
   ]
  },
  {
   "cell_type": "markdown",
   "metadata": {},
   "source": [
    "c) Convierte el código anterior en una función que genere un archivo de texto con nombre `output.txt`, siguiendo este formato: \n",
    "```\n",
    "Dia, Afectados, Críticos, Exitus, Estado\n",
    "0, 4250, 425,  106, No Saturación\n",
    "1, 5737, 573,  143, No Saturación\n",
    "2, 7745, 774,  193, No Saturación\n",
    "...\n",
    "```\n",
    "Con los parámetros de entrada $N$, $D$, $\\beta$, camas SMI."
   ]
  },
  {
   "cell_type": "code",
   "execution_count": 37,
   "metadata": {},
   "outputs": [],
   "source": [
    "# Respuesta\n",
    "def documento(infectados,criticos,exitus,estado):\n",
    "\n",
    "    \"\"\"Es una función que toma los valores anteriores y los guarda en un txt\n",
    "    en la ruta indicada\n",
    "    -----------------------------------\n",
    "    args: type list\"\"\"\n",
    "\n",
    "\n",
    "    ruta = \"C:/Users/ferna/OneDrive/Documentos/GitHub/The_Bridge_DataScience_PT_ALUMNI_feb22/02_PYTHON/week06/pra/your-solution-here/\"\n",
    "    nombre = \"week6pravanzado.txt\"\n",
    "    \n",
    "    with open(ruta + nombre,\"w\") as doc:\n",
    "        print(doc)\n",
    "        doc.write(\"Dia, \")\n",
    "        doc.write(\"Afectados, \")\n",
    "        doc.write(\"Críticos, \")\n",
    "        doc.write(\"Exitus, \")\n",
    "        doc.write(\"Estado\")\n",
    "        for i in range(len(exitus)):\n",
    "            doc.write(str(i) + \"\\n\")\n",
    "            doc.write(\"\\t\" + str(infectados[i]) + \"\\n\")\n",
    "            doc.write(\"\\t\" +\"\\t\" +\"\\t\" + str(criticos[i]) + \"\\n\")\n",
    "            doc.write(\"\\t\" +\"\\t\" +\"\\t\" +\"\\t\"\"\\t\" + str(exitus[i]) + \"\\n\")\n",
    "            doc.write(\"\\t\" +\"\\t\" +\"\\t\" +\"\\t\" +\"\\t\" +\"\\t\" +\"\\t\" + estado[i] + \"\\n\")"
   ]
  },
  {
   "cell_type": "code",
   "execution_count": 40,
   "metadata": {},
   "outputs": [
    {
     "name": "stdout",
     "output_type": "stream",
     "text": [
      "<_io.TextIOWrapper name='C:/Users/ferna/OneDrive/Documentos/GitHub/The_Bridge_DataScience_PT_ALUMNI_feb22/02_PYTHON/week06/pra/your-solution-here/week6pravanzado.txt' mode='w' encoding='cp1252'>\n"
     ]
    }
   ],
   "source": [
    "documento(proyeccion_infectados,criticos,proyeccion_exitus,estado)"
   ]
  },
  {
   "cell_type": "markdown",
   "metadata": {},
   "source": [
    "### Ejercicio 3\n",
    "\n",
    "Dado el siguiente diccionario:"
   ]
  },
  {
   "cell_type": "code",
   "execution_count": null,
   "metadata": {},
   "outputs": [],
   "source": [
    "d = {\"Alex\":344334443, \"Eva\":5533443, \"Cristina\":443355, \"Jonas\":33223324}"
   ]
  },
  {
   "cell_type": "markdown",
   "metadata": {},
   "source": [
    "Escribid una función que pregunte al usuario que introduzca el nombre de una persona y muestre por pantalla el nombre de la persona y su teléfono. \n",
    "\n",
    "Tened en cuenta que:\n",
    "\n",
    "- La función debe controlar que el valor introducido por el usuario es un nombre que existe en el diccionario. En caso contrario, mostrará un mensaje de error (\"El nombre introducido no corresponde a ninguna persona\") y devolverá el valor False.\n",
    "- Debéis tener en cuenta que el nombre de las personas que nos pasan por parámetro puede ser en minúsculas, mayúsculas o una combinación de ambas, y que debemos encontrar el número de teléfono aunque la capitalización de la cadena entrada por el usuario no sea exactamente la misma que hemos almacenado en el diccionario.\n",
    "- Suponed que  no hay acentos en los nombres.\n",
    "\n",
    "Nota 1: Para realizar la actividad, tendréis que capturar un texto que entrará el usuario. Consultad la [documentación oficial de la función input](https://docs.python.org/3/library/functions.html#input) para ver cómo hacerlo.\n",
    "\n",
    "Nota 2: También tendréis que pensar cómo tratar el hecho de que el usuario pueda utilizar mayúsculas y minúsculas en la escritura del nombre en el diccionario. ¡Os animamos a usar un buscador para intentar encontrar alguna alternativa para resolver este subproblema! ¡Recordad citar las referencias que hayáis usado para resolverlo!\n"
   ]
  },
  {
   "cell_type": "code",
   "execution_count": 34,
   "metadata": {},
   "outputs": [],
   "source": [
    "d = {\"Alex\":344334443, \"Eva\":5533443, \"Cristina\":443355, \"Jonas\":33223324}\n",
    "\n",
    "# Respuesta\n",
    "\n",
    "def nombre():\n",
    "\n",
    "    \"\"\"función que nos devuelve el teléfono de contacto de una persona si esta\n",
    "    se encuentra en el diccionario de personas que tenemos guardadas, si no nos\n",
    "    dice que no la tenemos\n",
    "    -------------------------------\n",
    "    no args\"\"\"\n",
    "\n",
    "    persona = input(\"¿a quíen quiere llamar?: \").title()\n",
    "    if persona in d.keys():\n",
    "        return f\"El teléfono de {persona} es {d[persona]}\"\n",
    "    else:\n",
    "        print(\"El nombre introducido no corresponde a ninguna persona\")\n",
    "        return False"
   ]
  },
  {
   "cell_type": "code",
   "execution_count": 35,
   "metadata": {},
   "outputs": [
    {
     "name": "stdout",
     "output_type": "stream",
     "text": [
      "El nombre introducido no corresponde a ninguna persona\n"
     ]
    },
    {
     "data": {
      "text/plain": [
       "False"
      ]
     },
     "execution_count": 35,
     "metadata": {},
     "output_type": "execute_result"
    }
   ],
   "source": [
    "nombre()"
   ]
  },
  {
   "cell_type": "markdown",
   "metadata": {},
   "source": [
    "###  Ejercicio 4\n",
    "\n",
    "Python dispone de un **idiom** muy útil conocido como `list comprehension`. Utilizando este **idiom**, proporcionad una expresión que devuelva las listas siguientes.\n",
    "\n",
    "Nota: Para realizar esta actividad necesitaréis investigar qué son las `list comprehension` y qué sintaxis utilizan. Para ello, se recomienda en primer lugar que utilicéis un buscador para encontrar información genérica sobre esta construcción. Después, os recomendamos que consultéis stackoverflow para ver algunos ejemplos de problemas que se pueden resolver con esta construcción.\n",
    "\n",
    "\n",
    "[stackoverflow](https://stackoverflow.com/) es un sitio de preguntas-y-respuestas muy popular entre programadores. Veréis que para la gran mayoría de las dudas que tengáis, habrá alguien que ya les habrá tenido (y consultado) anteriormente! Así pues, más allá de preguntar vosotros mismos las dudas allí (nosotros ya tenemos el foro del aula para ello!), consultar esta web os permitirá ver qué soluciones proponen otros programadores a estas dudas. A menudo habrá más de una solución a un mismo problema, y podréis valorar cuál es la más adecuada para vuestro problema.\n",
    "\n",
    "Para ver ejemplos de problemas que son adecuados para resolver con **list comprehensions**, os recomendamos leer las siguientes páginas:\n",
    "* https://stackoverflow.com/questions/12555443/squaring-all-elements-in-a-list\n",
    "* https://stackoverflow.com/questions/18551458/how-to-frame-two-for-loops-in-list-comprehension-python\n",
    "* https://stackoverflow.com/questions/24442091/list-comprehension-with-condition\n",
    "* https://stackoverflow.com/questions/41676212/i-want-to-return-only-the-odd-numbers-in-a-list\n",
    "* https://stackoverflow.com/questions/4260280/if-else-in-a-list-comprehension\n"
   ]
  },
  {
   "cell_type": "markdown",
   "metadata": {},
   "source": [
    "a) Una lista con los valores $4 x^2$ donde $x$ es cada uno de los números de la lista `list_1`:"
   ]
  },
  {
   "cell_type": "code",
   "execution_count": 47,
   "metadata": {},
   "outputs": [
    {
     "name": "stdout",
     "output_type": "stream",
     "text": [
      "[4, 16, 36, 64, 100, 144, 196, 256, 324]\n"
     ]
    }
   ],
   "source": [
    "list_1 = [1, 2, 3, 4, 5, 6, 7, 8, 9]\n",
    "\n",
    "# Respuesta\n",
    "my_answer1 = [4*(i**2) for i in list_1]\n",
    "print(my_answer1)"
   ]
  },
  {
   "cell_type": "markdown",
   "metadata": {},
   "source": [
    "b) Una lista con los valores $x/(x+1)$ donde $x$ es cada uno de los números de la lista `list_1`:"
   ]
  },
  {
   "cell_type": "code",
   "execution_count": 48,
   "metadata": {},
   "outputs": [
    {
     "name": "stdout",
     "output_type": "stream",
     "text": [
      "[0.5, 0.6666666666666666, 0.75, 0.8, 0.8333333333333334, 0.8571428571428571, 0.875, 0.8888888888888888, 0.9]\n"
     ]
    }
   ],
   "source": [
    "# Respuesta\n",
    "list_1 = [1, 2, 3, 4, 5, 6, 7, 8, 9]\n",
    "my_answer2 = [i/(i+1) for i in list_1]\n",
    "print(my_answer2)\n"
   ]
  },
  {
   "cell_type": "markdown",
   "metadata": {},
   "source": [
    "c) Una lista con los valores $4x^2/(4x^2-1)$ donde $x$ es cada uno de los números de la lista `list_1`:"
   ]
  },
  {
   "cell_type": "code",
   "execution_count": 50,
   "metadata": {},
   "outputs": [
    {
     "name": "stdout",
     "output_type": "stream",
     "text": [
      "[1.3333333333333333, 1.0666666666666667, 1.0285714285714285, 1.0158730158730158, 1.0101010101010102, 1.006993006993007, 1.005128205128205, 1.003921568627451, 1.0030959752321982]\n"
     ]
    }
   ],
   "source": [
    "# Respuesta\n",
    "list_1 = [1, 2, 3, 4, 5, 6, 7, 8, 9]\n",
    "my_answer3 = [(4*i**2)/((4*i**2)-1) for i in list_1]\n",
    "print(my_answer3)\n",
    "\n"
   ]
  },
  {
   "cell_type": "markdown",
   "metadata": {},
   "source": [
    "### Ejercicio 5\n",
    "\n",
    "El siguiente ejercicio consiste en pasar un número en base 16 (hexadecimal, 0-9/A-F) a base 10 (decimal). Para hacerlo, debéis crear una **función** que dado un _string_ que representa un número en hexadecimal, por ejemplo, `AE3F`, devuelva el número \n",
    "natural correspondiente. En este caso, el resultado sería `44607`."
   ]
  },
  {
   "cell_type": "code",
   "execution_count": 71,
   "metadata": {},
   "outputs": [],
   "source": [
    "# Respuesta\n",
    "\n",
    "def hexa_dec(hexa):\n",
    "    \"\"\" función que metiendo un string como número hexadecimal lo convierte\n",
    "    en decimal\n",
    "    ------------------------------\n",
    "    args = string\"\"\"\n",
    "\n",
    "    letras = {\"A\":10,\"B\":11,\"C\":12,\"D\":13,\"E\":14,\"F\":15,\"3\":3}\n",
    "    numero_dec = 0\n",
    "\n",
    "    for i in range(len(hexa)): # recorre el string para coger cada uno de sus valores\n",
    "        num_reverse = hexa[::-1] # le damos la vuelta al string para poder aplicar las potencias\n",
    "        numero_dec += letras[num_reverse[i]]*(16**i) # en orden correcto y aplicamos la fórmula\n",
    "    return numero_dec # devolvemos el valor\n"
   ]
  },
  {
   "cell_type": "code",
   "execution_count": 72,
   "metadata": {},
   "outputs": [
    {
     "data": {
      "text/plain": [
       "44607"
      ]
     },
     "execution_count": 72,
     "metadata": {},
     "output_type": "execute_result"
    }
   ],
   "source": [
    "hexa_dec(\"AE3F\")"
   ]
  },
  {
   "cell_type": "markdown",
   "metadata": {},
   "source": [
    "### Ejercicio 6\n",
    "\n",
    "Las excepciones son errores detectados en tiempo de ejecución. Pueden y deben ser manejadas por el programador para minimizar el riesgo de que un determinado programa falle de forma no controlada. Escribid, en lenguaje Python, cómo generar y capturar la siguiente excepción: **ZeroDivisionError**."
   ]
  },
  {
   "cell_type": "code",
   "execution_count": 73,
   "metadata": {},
   "outputs": [
    {
     "name": "stdout",
     "output_type": "stream",
     "text": [
      "no se puede realizar una división entre cero\n"
     ]
    }
   ],
   "source": [
    "# Respuesta\n",
    "\n",
    "try:\n",
    "    operacion = 10/0\n",
    "except ZeroDivisionError:\n",
    "    print(\"no se puede realizar una división entre cero\")"
   ]
  },
  {
   "cell_type": "markdown",
   "metadata": {},
   "source": [
    "### Ejercicio 7\n",
    "\n",
    "Completad el código necesario para calcular el número de vocales y de consonantes respectivamente de un texto."
   ]
  },
  {
   "cell_type": "code",
   "execution_count": 78,
   "metadata": {},
   "outputs": [
    {
     "name": "stdout",
     "output_type": "stream",
     "text": [
      "El número de vocales es 44.\n",
      "El número de consonantes es 62.\n"
     ]
    }
   ],
   "source": [
    "def contar_vocales_y_consonantes(texto):\n",
    "    # Cuenta las vocales contenidas en el string texto y también las consonantes.\n",
    "    num_vocales = 0\n",
    "    num_consonantes = 0\n",
    "    # creamos la lista de vocales de referencia, lo que no sean vocales serán consonantes\n",
    "    vocales = [\"a\",\"e\",\"i\",\"o\",\"u\"]\n",
    "    # tratamos el texto quitando espacios, comas, puntos y la exclamación y lo hacemos minúscula\n",
    "    texto = texto.replace(\" \",\"\").replace(\",\",\"\").replace(\".\",\"\").replace(\"!\",\"\")\n",
    "    texto = texto.lower()\n",
    "    # creamos un bucle que recorre el texto para chequear y colocar cada letra en su sitio\n",
    "    for i in texto:\n",
    "        if i in vocales: # mira si es una vocal al estar contenida en la lista de vocales\n",
    "            num_vocales += 1 # si es True, suma un uno a la variable de vocales\n",
    "        else:\n",
    "            num_consonantes += 1 # si no está en la lista de vocales suma uno a las consonantes\n",
    "    return num_vocales, num_consonantes # devuelve el resultado\n",
    "\n",
    "texto = \"Orbiting Earth in the spaceship, I saw how beautiful our planet is. \\\n",
    "            People, let us preserve and increase this beauty, not destroy it!\"\n",
    "\n",
    "num_vocales, num_consonantes = contar_vocales_y_consonantes(texto)\n",
    "print(\"El número de vocales es %d.\" % num_vocales)\n",
    "print(\"El número de consonantes es %d.\" % num_consonantes)"
   ]
  },
  {
   "cell_type": "markdown",
   "metadata": {},
   "source": [
    "### Ejercicio 8\n",
    "\n",
    "Escribid una función que dada una lista de planetas del sistema solar, pregunte al usuario que introduzca una posición y muestre el plante correspondiente a dicha posición. Por ejemplo, si tenemos la siguiente lista: `['Mercurio', 'Venus', 'Tierra', 'Marte']` y el usuario nos ha introducido la posición `3`, hemos de mostrar como resultado por pantalla: `Tierra`.\n",
    "\n",
    "Consideraciones:\n",
    "\n",
    "- La posición que introduzca el usuario tiene que ser un número entero estrictamente positivo.\n",
    "- La función debe controlar el acceso a una posición fuera de la lista mediante una **excepción**. Por ejemplo, en el caso anterior debemos mostrar una mensaje de error si el usuario pide acceder a la posición 10."
   ]
  },
  {
   "cell_type": "code",
   "execution_count": 94,
   "metadata": {},
   "outputs": [],
   "source": [
    "# Respuesta\n",
    "\n",
    "def planeta(pos):\n",
    "\n",
    "    \"\"\"función que de una lista de planetas, si le metemos el índice de posición\n",
    "    nos devuelve el planeta que está en esa posición, si la posición no existe\n",
    "    nos dirá que no es tan larga la lista\n",
    "    -----------------------------\n",
    "    args: pos = int \"\"\"\n",
    "# creamos una excepción por si el índice está fuera de rango nos lo indique sin un error\n",
    "    try:\n",
    "        planetas = ['Mercurio', 'Venus', 'Tierra', 'Marte'] # creamos la lista de planetas\n",
    "        return planetas[abs(pos)] # devolvemos el planeta, si existe, si no ejecutará el except\n",
    "    except IndexError:\n",
    "        print(\"la lista no es tan larga, introduce un número menor\")\n"
   ]
  },
  {
   "cell_type": "code",
   "execution_count": 95,
   "metadata": {},
   "outputs": [
    {
     "data": {
      "text/plain": [
       "'Marte'"
      ]
     },
     "execution_count": 95,
     "metadata": {},
     "output_type": "execute_result"
    }
   ],
   "source": [
    "planeta(-3)"
   ]
  },
  {
   "cell_type": "markdown",
   "metadata": {},
   "source": [
    "### Ejercicio 9\n",
    "\n",
    "Dada una lista de planetas del sistema solar, determinad cuales de estos planetas tienen una masa superior a la de la Tierra. Por ejemplo, si la lista inicial es `['Venus', 'Marte', 'Saturno']`, el resultado que mostraríamos por pantalla sería `['Saturno']` ya que el planeta Saturno tiene una masa `95.2` veces superior a la Tierra.\n",
    "\n",
    "Consideraciones:\n",
    "\n",
    "- Debéis tener en cuenta que el nombre de los planetas que nos pasan por parámetro puede estar en minúsculas, mayúsculas o una combinación de ambas.\n",
    "- Podéis asumir que no habrá acentos en el nombre de los planetas.\n",
    "- Debéis determinar aquellos planetas que tiene una massa estrictamente superior a la de la Tierra.\n",
    "- No habrá planetas repetidos en la lista que nos pasan por parámetro."
   ]
  },
  {
   "cell_type": "code",
   "execution_count": 96,
   "metadata": {},
   "outputs": [],
   "source": [
    "masas = {'Mercurio': 0.06, 'Venus': 0.82, 'Tierra': 1, 'Marte': 0.11, 'Jupiter': 317.8, \n",
    "          'Saturno': 95.2, 'Urano': 14.6, 'Neptuno': 17.2, 'Pluto': 0.0022}"
   ]
  },
  {
   "cell_type": "code",
   "execution_count": 112,
   "metadata": {},
   "outputs": [
    {
     "name": "stdout",
     "output_type": "stream",
     "text": [
      "set()\n",
      "{'Jupiter', 'Saturno'}\n",
      "{'Neptuno', 'Urano'}\n",
      "{'Saturno'}\n"
     ]
    }
   ],
   "source": [
    "def planetas_mas_grandes_que_Tierra(planetas):\n",
    "    \"\"\"\n",
    "    Planetas con una masa superior a la de la Tierra\n",
    "    \"\"\"\n",
    "    planetas_masa_superior = []\n",
    "\n",
    "    # Código a completar\n",
    "    for i in range(len(planetas)): # recorremos la lista de planetas\n",
    "        planetas[i] = planetas[i].title() # formateamos la entrada de la función como title\n",
    "        if masas[planetas[i]] > masas[\"Tierra\"]: # vemos si el planeta elegido tiene mayor masa que la tierra\n",
    "            planetas_masa_superior.append(planetas[i]) # si la tiene lo guardamos en la lista a devolver\n",
    "\n",
    "    return set(planetas_masa_superior) # devolvemos la lista con mayor masa que la tierra\n",
    "\n",
    "# Ejemplos de uso de la función anterior\n",
    "print(planetas_mas_grandes_que_Tierra(['Venus', 'Mercurio', 'Marte']))\n",
    "print(planetas_mas_grandes_que_Tierra(['Jupiter', 'Saturno', 'Pluto']))\n",
    "print(planetas_mas_grandes_que_Tierra(['urano', 'tierra', 'neptuno', 'marte', 'Venus']))\n",
    "print(planetas_mas_grandes_que_Tierra(['Tierra', 'MeRcUrIo', 'PLUTO', 'SATURNO']))\n",
    "\n",
    "# Podéis añadir más ejemplos si lo consideráis oportuno"
   ]
  },
  {
   "cell_type": "code",
   "execution_count": 113,
   "metadata": {},
   "outputs": [
    {
     "data": {
      "text/plain": [
       "{'Jupiter', 'Saturno'}"
      ]
     },
     "execution_count": 113,
     "metadata": {},
     "output_type": "execute_result"
    }
   ],
   "source": [
    "planetas_mas_grandes_que_Tierra([\"Jupiter\",\"Jupiter\",\"Saturno\"])"
   ]
  },
  {
   "cell_type": "markdown",
   "metadata": {},
   "source": [
    "### Ejercicio 10\n",
    "\n",
    "Dada una cadena de caracteres, `s`, de longitud `n` y un número entero positivo `k`, siendo `k` un divisor de `n`, podemos dividir la cadena `s` en `n / k` sub-cadenas de la misma longitud.\n",
    "\n",
    "Escribid una función que, dada una cadena `s` y un número entero `k`, devuelva las `n/k` sub-cadenas teniendo en cuenta las siguientes consideraciones:\n",
    "\n",
    "- El orden de los caracteres en las sub-cadenas debe ser el mismo que en la cadena original.\n",
    "- Todos los caracteres de las sub-cadenas deben aparecer una única vez. Es decir, si un caracter se repite dentro de una sub-cadena, sólo hemos de mostrar la primera ocurrencia.\n",
    "\n",
    "Por ejemplo, si tenemmos\n",
    "<code>\n",
    "s = AABCCAADA\n",
    "k = 3\n",
    "</code>\n",
    "\n",
    "el resultado a mostrar por pantalla sería:\n",
    "<code>\n",
    "AB\n",
    "CA\n",
    "AD\n",
    "</code>\n",
    "\n",
    "Tenemos que la longitud de la cadena es 9 y por lo tanto, podemos formar 3 sub-cadenas:\n",
    "\n",
    "`AAB -> AB` (el caracter A se repite dos veces)\n",
    "\n",
    "`CCA -> CA` (el caracter C se repite dos veces)\n",
    "\n",
    "`ADA -> AD` (el caracter A se repite dos veces)"
   ]
  },
  {
   "cell_type": "code",
   "execution_count": 121,
   "metadata": {},
   "outputs": [],
   "source": [
    "# Respuesta\n",
    "def subcadenas(s,k):\n",
    "    \n",
    "    n = len(s)\n",
    "    \n",
    "    letras = list(s)\n",
    "\n",
    "    def control_divisibles(n):\n",
    "        for i in range(1,10):\n",
    "            if n%i != 0 and k != n/i:\n",
    "                continue\n",
    "            else:\n",
    "                return True\n",
    "\n",
    "    def crea_lista_def(letras):\n",
    "        lista_3 = []\n",
    "        for i in range(len(letras)):\n",
    "            chop = letras[i:i+k]\n",
    "            lista_3.append(chop)\n",
    "        lista_def =  lista_3[::k]\n",
    "        return lista_def\n",
    "\n",
    "    def resultado(funcion):\n",
    "        chops = funcion\n",
    "\n",
    "        lista_str= []\n",
    "        for i in chops:\n",
    "            juntas = \"\"\n",
    "            for j in i:\n",
    "                juntas += j\n",
    "                lista_str.append(juntas)\n",
    "        return lista_str[::-3]\n",
    "\n",
    "    flag = control_divisibles(n)\n",
    "\n",
    "    if flag == True:\n",
    "\n",
    "        lista_cadenas = resultado(crea_lista_def(letras))\n",
    "        return lista_cadenas\n",
    "        \n",
    "    else:\n",
    "        return(f\"el número {k} no es divisor de {n}\")\n",
    "\n",
    "\n",
    "\n"
   ]
  },
  {
   "cell_type": "code",
   "execution_count": 129,
   "metadata": {},
   "outputs": [
    {
     "data": {
      "text/plain": [
       "['AABCCAADA', 'AABCCA', 'AAB']"
      ]
     },
     "execution_count": 129,
     "metadata": {},
     "output_type": "execute_result"
    }
   ],
   "source": [
    "subcadenas(\"AABCCAADA\",23)"
   ]
  },
  {
   "cell_type": "code",
   "execution_count": 116,
   "metadata": {},
   "outputs": [
    {
     "data": {
      "text/plain": [
       "True"
      ]
     },
     "execution_count": 116,
     "metadata": {},
     "output_type": "execute_result"
    }
   ],
   "source": [
    "def control_divisibles(n):\n",
    "    for i in range(1,10):\n",
    "        if n%i == 0 and k == n/i:\n",
    "            return  True\n",
    "        else:\n",
    "            return False\n",
    "\n",
    "control_divisibles(3)"
   ]
  },
  {
   "cell_type": "code",
   "execution_count": 51,
   "metadata": {},
   "outputs": [
    {
     "name": "stdout",
     "output_type": "stream",
     "text": [
      "[1, 4, 9, 16, 25, 36, 49, 64]\n"
     ]
    }
   ],
   "source": [
    "lista = [1,2,3,4,5,6,7,8]\n",
    "\n",
    "var = list(map(lambda x: x**2,lista))\n",
    "print(var)"
   ]
  },
  {
   "cell_type": "code",
   "execution_count": 17,
   "metadata": {},
   "outputs": [
    {
     "name": "stdout",
     "output_type": "stream",
     "text": [
      "[1, 3, 5, 7]\n"
     ]
    }
   ],
   "source": [
    "var = list(filter(lambda x: x%2,lista))\n",
    "print(var)"
   ]
  },
  {
   "cell_type": "code",
   "execution_count": 19,
   "metadata": {},
   "outputs": [
    {
     "name": "stdout",
     "output_type": "stream",
     "text": [
      "36\n"
     ]
    }
   ],
   "source": [
    "from functools import reduce\n",
    "var = reduce(lambda x,y: x+y,lista)\n",
    "print(var)"
   ]
  },
  {
   "cell_type": "code",
   "execution_count": 20,
   "metadata": {},
   "outputs": [],
   "source": [
    "# Definimos una función con dos parámetros obligatorios y\n",
    "# un número indeterminado de parámetros posicionales\n",
    "def suma_dos_o_tres_valores(x, y, *extra_arg):\n",
    "    print(f\"Los argumentos son {x}, {y}\")\n",
    "    print(f\"Los argumentos añadidos son {extra_arg}\")\n",
    "    print(f\"Otro extra argumento es {extra_arg}\")\n",
    "    return x + y + sum(extra_arg)"
   ]
  },
  {
   "cell_type": "code",
   "execution_count": 21,
   "metadata": {},
   "outputs": [
    {
     "name": "stdout",
     "output_type": "stream",
     "text": [
      "Los argumentos son 1, 2\n",
      "Los argumentos añadidos son (3, 4, 5, 6, 7, 8, 9)\n",
      "Otro extra argumento es (3, 4, 5, 6, 7, 8, 9)\n"
     ]
    },
    {
     "data": {
      "text/plain": [
       "45"
      ]
     },
     "execution_count": 21,
     "metadata": {},
     "output_type": "execute_result"
    }
   ],
   "source": [
    "suma_dos_o_tres_valores(1,2,3,4,5,6,7,8,9)"
   ]
  },
  {
   "cell_type": "code",
   "execution_count": 22,
   "metadata": {},
   "outputs": [
    {
     "name": "stdout",
     "output_type": "stream",
     "text": [
      "1\n"
     ]
    }
   ],
   "source": [
    "var = (1,2,3)\n",
    "print(var[0])"
   ]
  },
  {
   "cell_type": "code",
   "execution_count": null,
   "metadata": {},
   "outputs": [],
   "source": [
    "# Definimos una función con dos parámetros obligatorios y\n",
    "# un número indeterminado de parámetros con nombre\n",
    "def suma_dos_o_tres_valores(x, y,  *args, param=5, **extra_kwargs):\n",
    "    print(f\"Los argumentos son {x}, {y}\")\n",
    "    print(f\"los argumentos posicionales extra son {args}\")\n",
    "    print(f\"Los argumentos añadidos son {extra_kwargs}\")\n",
    "    print(f\"Los argumentos añadidos son {type(extra_kwargs)}\")\n",
    "    for k in extra_kwargs:\n",
    "        print(f\"{k}, {extra_kwargs[k]}\")\n",
    "    print(f\"Extra kwargumentos son {extra_kwargs}\")\n",
    "    return x + y + sum(extra_kwargs.values()) + param + sum(args)"
   ]
  },
  {
   "cell_type": "code",
   "execution_count": null,
   "metadata": {},
   "outputs": [],
   "source": []
  }
 ],
 "metadata": {
  "interpreter": {
   "hash": "3a457f06cda4579c7033761bf4e886c4764e74b759b9220f07c03aa5d4880471"
  },
  "kernelspec": {
   "display_name": "Python 3.9.5 ('data_science_py395')",
   "language": "python",
   "name": "python3"
  },
  "language_info": {
   "codemirror_mode": {
    "name": "ipython",
    "version": 3
   },
   "file_extension": ".py",
   "mimetype": "text/x-python",
   "name": "python",
   "nbconvert_exporter": "python",
   "pygments_lexer": "ipython3",
   "version": "3.9.5"
  },
  "orig_nbformat": 4
 },
 "nbformat": 4,
 "nbformat_minor": 2
}
