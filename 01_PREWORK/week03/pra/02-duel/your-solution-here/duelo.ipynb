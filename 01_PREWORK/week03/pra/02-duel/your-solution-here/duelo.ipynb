{
 "cells": [
  {
   "cell_type": "markdown",
   "metadata": {},
   "source": [
    "# Duelo de magos\n",
    "Estás presenciando una batalla épica entre dos poderosos magos: Gandalf y Saruman. Cada mago tiene 10 hechizos de potencia variable en su mente y los van a lanzar uno tras otro. El ganador del duelo será el que gane más de esos choques entre hechizos. Los hechizos se representan como una lista de 10 números enteros cuyo valor equivale a la potencia del hechizo. \n",
    "```\n",
    "gandalf = [10, 11, 13, 30, 22, 11, 10, 33, 22, 22]\n",
    "saruman = [23, 66, 12, 43, 12, 10, 44, 23, 12, 17]\n",
    "```\n",
    "Por ejemplo: \n",
    "1. El primer choque lo gana Saruman: 10 contra 23, gana el 23\n",
    "2. El segundo choque gana Saruman: 11 contra 66, gana el 66\n",
    "3. etc.\n",
    "\n",
    "\n",
    "Vas a crear dos variables, una por cada mago, donde se almacenarán la suma de choques de hechizos ganados. En función de qué variable sea mayor al final del duelo, mostrarás por pantalla uno de los tres siguientes resultados: \n",
    "* Gandalf gana\n",
    "* Saruman gana\n",
    "* Empate\n",
    "\n",
    "\n",
    "1. El primer choque lo gana Saruman: 10 contra 23, gana el 23\n",
    "2. El segundo choque gana Saruman: 11 contra 66, gana el 66\n",
    "3. etc."
   ]
  },
  {
   "cell_type": "markdown",
   "metadata": {},
   "source": [
    "## Solución"
   ]
  },
  {
   "cell_type": "code",
   "execution_count": 15,
   "metadata": {},
   "outputs": [
    {
     "name": "stdout",
     "output_type": "stream",
     "text": [
      "El primer choque lo gana Saruman: 10 vs 23 gana 23\n",
      "El segundo choque lo gana Saruman: 11 vs 66 gana 66\n",
      "El tercer choque lo gana Gandalf: 13 vs 12 gana 13\n",
      "El cuarto choque lo gana Saruman: 30 vs 43 gana 43\n",
      "El quinto choque lo gana Gandalf: 22 vs 12 gana 22\n",
      "El sexto choque lo gana Gandalf: 11 vs 10 gana 11\n",
      "El septimo choque lo gana Saruman: 10 vs 44 gana 44\n",
      "El octavo choque lo gana Gandalf: 33 vs 23 gana 33\n",
      "El noveno choque lo gana Gandalf: 22 vs 12 gana 22\n",
      "El décimo choque lo gana Gandalf: 22 vs 17 gana 22\n",
      "================\n",
      " Gandalf gana!!\n",
      "================\n"
     ]
    }
   ],
   "source": [
    "# Asignamos las listas de hechizos a variables\n",
    "gandalf = [10, 11, 13, 30, 22, 11, 10, 33, 22, 22]\n",
    "saruman = [23, 66, 12, 43, 12, 10, 44, 23, 12, 17]\n",
    "posicion = [\"primer\",\"segundo\",\"tercer\",\"cuarto\",\"quinto\",\"sexto\",\"septimo\",\n",
    "            \"octavo\",\"noveno\",\"décimo\"]\n",
    "# Asignamos 0 a cada variable que almacena las victorias\n",
    "victorias_g = 0\n",
    "victorias_s = 0\n",
    "\n",
    "# Ejecución de los choques de hechizos\n",
    "for i in range(0,len(gandalf)):\n",
    "    if gandalf[i] > saruman[i]:\n",
    "        victorias_g += 1\n",
    "        print(f\"\"\"El {posicion[i]} choque lo gana Gandalf: {gandalf[i]} vs {saruman[i]} gana {gandalf[i]}\"\"\")\n",
    "    else:\n",
    "        victorias_s +=1\n",
    "        print(f\"\"\"El {posicion[i]} choque lo gana Saruman: {gandalf[i]} vs {saruman[i]} gana {saruman[i]}\"\"\")\n",
    "\n",
    "if victorias_g > victorias_s:\n",
    "    print(\"================\")\n",
    "    print(\" Gandalf gana!!\")\n",
    "    print(\"================\")\n",
    "elif victorias_g < victorias_s:\n",
    "    print(\"================\")\n",
    "    print(\" Saruman gana!!\")\n",
    "    print(\"================\")\n",
    "else:\n",
    "    print(\"================\")\n",
    "    print(\"    Empate\")\n",
    "    print(\"================\")\n",
    "\n",
    "# Comprobamos quién ha ganado, no olvides la posibilidad de empate. \n",
    "# Imprime el resultado en función del ganador. \n",
    "\n"
   ]
  },
  {
   "cell_type": "markdown",
   "metadata": {},
   "source": [
    "## Objetivos\n",
    "\n",
    "1. Tratamiento de listas\n",
    "2. Uso de bucle **for**\n",
    "3. Uso de condicionales **if-elif-else**\n",
    "4. Uso de las funciones **range(), len()**\n",
    "5. Imprimir por consola"
   ]
  },
  {
   "cell_type": "code",
   "execution_count": null,
   "metadata": {},
   "outputs": [],
   "source": []
  }
 ],
 "metadata": {
  "kernelspec": {
   "display_name": "Python 3",
   "language": "python",
   "name": "python3"
  },
  "language_info": {
   "codemirror_mode": {
    "name": "ipython",
    "version": 3
   },
   "file_extension": ".py",
   "mimetype": "text/x-python",
   "name": "python",
   "nbconvert_exporter": "python",
   "pygments_lexer": "ipython3",
   "version": "3.9.5"
  }
 },
 "nbformat": 4,
 "nbformat_minor": 2
}
