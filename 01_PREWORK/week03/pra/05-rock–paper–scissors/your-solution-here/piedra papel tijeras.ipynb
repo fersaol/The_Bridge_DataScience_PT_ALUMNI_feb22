{
 "cells": [
  {
   "cell_type": "markdown",
   "metadata": {},
   "source": [
    "# Piedra, papel, tijeras\n",
    "\n",
    "Vamos jugar contra nuestro ordenador al famoso juego. \n",
    "\n",
    "https://es.wikipedia.org/wiki/Piedra,_papel_o_tijera\n",
    "\n",
    "Se aconseja el uso de funciones"
   ]
  },
  {
   "cell_type": "code",
   "execution_count": 84,
   "metadata": {},
   "outputs": [],
   "source": [
    "# Importa la función choice del módulo random\n",
    "# https://stackoverflow.com/questions/306400/how-to-randomly-select-an-item-from-a-list\n",
    "\n",
    "\n",
    "# Asigna a una lista las 3 posibles opciones: 'piedra', 'papel' o 'tijeras'. \n",
    "# Asigna una variable al número de partidas máxima: 1, 3, 5, etc...\n",
    "# Asigna una variable al número de partidas que debe ganar un jugador para ganar. \n",
    "# Preferiblemente el valor será en función de el número de partidas máximas\n",
    "# Define una función que devuelva aleatoriamente una de las 3 opciones. \n",
    "# Esto corresponderá a la jugada de la máquina. Totalmente aleatoria. \n",
    "# Define una función que pregunte tu elección: 'piedra', 'papel' o 'tijeras'\n",
    "# sólo debe permitir una de las 3 opciones. Esto es programación defensiva. \n",
    "# Si no es piedra, papel o tijeras sigue preguntando hasta que lo sea. \n",
    "# Define una función que resuelva un combate. \n",
    "# Devuelve 0 si hay empate, 1 si gana la máquina, 2 si gana el jugador humano\n",
    "# Define una función que muestre la elección de cada jugador y el estado de la partida\n",
    "# Esta función debe utilizarse cada vez que se actualicen los puntos acumulados\n",
    "# Crea dos variables que acumulen las partidas ganadas de cada participante\n",
    "# Crea un bucle que itere mientras ningún jugador alcance el mínimo de victorias\n",
    "# necesarias para ganar. Dentro del bucle resuelve la jugada de la\n",
    "# máquina y pregunta la del jugador. Comparalas y actualiza el valor de las variables\n",
    "# que acumulen las partidas ganadas de cada participante. \n",
    "# Anuncia por consola el ganador del juego en función de quién tiene más victorias \n",
    "# aculumadas\n",
    "\n",
    "    "
   ]
  },
  {
   "cell_type": "code",
   "execution_count": 85,
   "metadata": {},
   "outputs": [],
   "source": [
    "import random"
   ]
  },
  {
   "cell_type": "code",
   "execution_count": 86,
   "metadata": {},
   "outputs": [],
   "source": [
    "opciones = [\"piedra\",\"papel\",\"tijeras\"]\n",
    "partidas = 5\n",
    "ganar = 3"
   ]
  },
  {
   "cell_type": "code",
   "execution_count": 87,
   "metadata": {},
   "outputs": [],
   "source": [
    "def eleccion_maquina():\n",
    "    return random.choice(opciones)\n",
    "maquina = eleccion_maquina()\n",
    "\n",
    "def eleccion_humana():\n",
    "    global eleccion_persona\n",
    "    eleccion_persona = input(\"elige tu opción: piedra, papel o tijeras \").lower()\n",
    "    \n",
    "    if (eleccion_persona == \"piedra\") or (eleccion_persona == \"papel\") or (eleccion_persona == \"tijeras\"):\n",
    "        return eleccion_persona\n",
    "    while (eleccion_persona != \"piedra\") or (eleccion_persona != \"papel\") or (eleccion_persona != \"tijeras\"):\n",
    "        eleccion_persona = input(\"solo puedes elegir: piedra, papel o tijeras, elige de nuevo \").lower()\n",
    "        return eleccion_persona\n",
    "humano = eleccion_persona"
   ]
  },
  {
   "cell_type": "code",
   "execution_count": 94,
   "metadata": {},
   "outputs": [],
   "source": [
    "def eleccion(persona,pc):\n",
    "    print(f\"la elección de la máquina es {pc}\")\n",
    "    print(f\"la elección de la persona es {persona}\")\n",
    "    print(f\"el estado de la partida es, máquina {acumulado_maquina}, persona {acumulado_persona}\")\n",
    "    print(\"            ********************************                 \")"
   ]
  },
  {
   "cell_type": "code",
   "execution_count": 96,
   "metadata": {},
   "outputs": [],
   "source": [
    "def ganador(acumulado_m,acumulado_p):\n",
    "    if acumulado_maquina > acumulado_persona:\n",
    "        print(\"===============================\")\n",
    "        print(f\"La máquina gana por {acumulado_maquina} contra {acumulado_persona}\")\n",
    "        print(\"===============================\")\n",
    "    elif acumulado_maquina < acumulado_persona:\n",
    "        print(\"===============================\")\n",
    "        print(f\"La persona gana por {acumulado_persona} contra {acumulado_maquina}\")\n",
    "        print(\"===============================\")\n",
    "    else:\n",
    "        print(\"======\")\n",
    "        print(\"Empate\")\n",
    "        print(\"======\")"
   ]
  },
  {
   "cell_type": "code",
   "execution_count": 98,
   "metadata": {},
   "outputs": [],
   "source": [
    "acumulado_maquina = 0\n",
    "acumulado_persona = 0 \n",
    "def combate(persona,pc):\n",
    "    global acumulado_maquina\n",
    "    global acumulado_persona\n",
    "    for i in range(0,partidas):\n",
    "        if (acumulado_maquina < ganar) or (acumulado_persona < ganar):\n",
    "            \n",
    "            persona = eleccion_humana()\n",
    "            pc = eleccion_maquina()\n",
    "            \n",
    "            if (persona == \"piedra\") and (pc == \"papel\"):\n",
    "                acumulado_maquina += 1\n",
    "            elif (persona == \"papel\") and (pc == \"tijeras\"):\n",
    "                acumulado_maquina += 1\n",
    "            elif (persona == \"tijeras\") and (pc == \"piedra\"):\n",
    "                acumulado_maquina += 1\n",
    "            elif (persona == \"papel\") and (pc == \"papel\"):\n",
    "                acumulado_maquina += 0\n",
    "            elif (persona == \"piedra\") and (pc == \"piedra\"):\n",
    "                acumulado_maquina += 0\n",
    "            elif (persona == \"tijeras\") and (pc == \"tijeras\"):\n",
    "                acumulado_maquina += 0\n",
    "            else:\n",
    "                acumulado_persona += 1\n",
    "\n",
    "        eleccion(persona,pc)\n",
    "    ganador(acumulado_maquina,acumulado_persona)\n",
    "\n",
    "\n"
   ]
  },
  {
   "cell_type": "code",
   "execution_count": null,
   "metadata": {},
   "outputs": [],
   "source": [
    "combate(humano,maquina)"
   ]
  },
  {
   "cell_type": "markdown",
   "metadata": {},
   "source": [
    "# Bonus: Piedra, papel, tijeras, lagarto, spock\n",
    "\n",
    "Ahora vienen las mejoras. \n",
    "\n",
    "http://www.samkass.com/theories/RPSSL.html\n",
    "\n",
    "Se te pide que implimentes unas mejoras con respecto al simple juego previo. Además el número de partidas (que deberá ser IMPAR) se pedirá por consola hasta que se introduzca un número válido. \n",
    "\n",
    "Mejoras: \n",
    "* 5 opciones: piedra, papel, tijeras, lagarto, spock\n",
    "* El número de partidas se pide por consola\n",
    "Consejo: Reutiliza código que ya hagas utilizado"
   ]
  },
  {
   "cell_type": "code",
   "execution_count": null,
   "metadata": {},
   "outputs": [],
   "source": [
    "# Importa la función choice del módulo random\n",
    "\n",
    "\n",
    "# Define una función que pide por teclado un número impar, hasta que no sea válido\n",
    "# seguirá pidiendo\n",
    "\n",
    "\n",
    "# Asigna a una lista las 5 posibles opciones. \n",
    "\n",
    "\n",
    "# Asigna una variable al número de partidas máxima: 1, 3, 5, etc...\n",
    "# Esta vez se usa la función definida previamente\n",
    "\n",
    "\n",
    "# Asigna una variable al número de partidas que debe ganar un jugador para ganar. \n",
    "# Preferiblemente el valor será en función de el número de partidas máximas\n",
    "\n",
    "\n",
    "# Define una función que devuelva aleatoriamente una de las 5 opciones. \n",
    "# Esto corresponderá a la jugada de la máquina. Totalmente aleatoria. \n",
    "\n",
    "\n",
    "\n",
    "# Define una función que pregunte tu elección de entre las 5\n",
    "# sólo debe permitir una de las 5 opciones. Esto es programación defensiva. \n",
    "# Si no es válida sigue preguntando hasta que lo sea. \n",
    "\n",
    "\n",
    "# Define una función que resuelva un combate. \n",
    "# Devuelve 0 si hay empate, 1 si gana la máquina, 2 si gana el jugador humano\n",
    "# Ahora hay más opciones\n",
    "\n",
    "\n",
    "    \n",
    "# Define una función que muestre la elección de cada jugador y el estado de la partida\n",
    "# Esta función debe utilizarse cada vez que se actualicen los puntos acumulados\n",
    "\n",
    "\n",
    "    \n",
    "# Crea dos variables que acumulen las partidas ganadas de cada participante\n",
    "\n",
    "\n",
    "# Crea un bucle que itere mientras ningún jugador alcance el mínimo de victorias\n",
    "# necesarias para ganar. Dentro del bucle resuelve la jugada de la\n",
    "# máquina y pregunta la del jugador. Comparalas y actualiza el valor de las variables\n",
    "# que acumulen las partidas ganadas de cada participante. \n",
    "\n",
    "\n",
    "    \n",
    "# Anuncia por consola el ganador del juego en función de quién tiene más victorias \n",
    "# aculumadas\n",
    "\n"
   ]
  },
  {
   "cell_type": "markdown",
   "metadata": {},
   "source": [
    "Si has programado con cabeza, el bonus son simples modificaciones al juego original. "
   ]
  },
  {
   "cell_type": "markdown",
   "metadata": {},
   "source": [
    "## Objetivos\n",
    "1. Uso de bucle\n",
    "2. Captura de datos por consola\n",
    "3. Uso if-elif-else\n",
    "4. Uso de try-except\n",
    "5. Definición de funciones. Programación modular. \n",
    "6. Operadores lógicos. \n",
    "7. Imprimir por consola\n",
    "8. Importación de módulos externos"
   ]
  },
  {
   "cell_type": "code",
   "execution_count": null,
   "metadata": {},
   "outputs": [],
   "source": []
  }
 ],
 "metadata": {
  "kernelspec": {
   "display_name": "Python 3",
   "language": "python",
   "name": "python3"
  },
  "language_info": {
   "codemirror_mode": {
    "name": "ipython",
    "version": 3
   },
   "file_extension": ".py",
   "mimetype": "text/x-python",
   "name": "python",
   "nbconvert_exporter": "python",
   "pygments_lexer": "ipython3",
   "version": "3.9.5"
  }
 },
 "nbformat": 4,
 "nbformat_minor": 4
}
