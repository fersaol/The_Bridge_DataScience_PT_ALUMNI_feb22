{
 "cells": [
  {
   "cell_type": "markdown",
   "metadata": {},
   "source": [
    "# 01 - Caracol y el pozo\n",
    "\n",
    "Un caracol cae en el fondo de un pozo de 125 cm. Cada día el caracol sube 30 cm. pero por la noche, mientras duerme, resbala 20 cm debido a que las paredes son húmedas. ¿Cuantos días tarda en escapar del pozo?\n",
    "\n",
    "TIP: https://www.vix.com/es/btg/curiosidades/59215/acertijos-matematicos-el-caracol-en-el-pozo-facil\n",
    "\n",
    "TIP: http://puzzles.nigelcoldwell.co.uk/sixtytwo.htm"
   ]
  },
  {
   "cell_type": "markdown",
   "metadata": {},
   "source": [
    "## Solución"
   ]
  },
  {
   "cell_type": "code",
   "execution_count": 26,
   "metadata": {},
   "outputs": [
    {
     "name": "stdout",
     "output_type": "stream",
     "text": [
      "Dias = 13\n"
     ]
    }
   ],
   "source": [
    "# Asigna los datos del problema a variables con nombres representativos\n",
    "# altura del pozo, avance diario, retroceso nocturno, distancia acumulada\n",
    "# Asigna 0 a la variable que representa la solución\n",
    "# Escribe el código que soluciona el problema\n",
    "# Imprime el resultado con print('Dias =', dias)\n",
    "\n",
    "altura_del_pozo = 125\n",
    "retroceso_nocturno = 20\n",
    "avance_diario = 30\n",
    "dias = 0\n",
    "distancia_acumulada = 0\n",
    "\n",
    "  \n",
    "while distancia_acumulada < 130:\n",
    "    if distancia_acumulada < 125:\n",
    "        dias += 1\n",
    "        distancia_acumulada = (avance_diario-retroceso_nocturno)*dias\n",
    "    if distancia_acumulada > 125:\n",
    "        print(f\"Dias = {dias}\")\n",
    "        \n"
   ]
  },
  {
   "cell_type": "markdown",
   "metadata": {},
   "source": [
    "## Objetivos\n",
    "\n",
    "1. Tratamiento de variables\n",
    "2. Uso de bucle **while**\n",
    "3. Uso de condicionales **if-else**\n",
    "4. Imprimir por consola"
   ]
  },
  {
   "cell_type": "markdown",
   "metadata": {},
   "source": [
    "## Bonus\n",
    "La distancia recorrida por el caracol viene ahora definida por una lista. \n",
    "```\n",
    "avance_cm = [30, 21, 33, 77, 44, 45, 23, 45, 12, 34, 55]\n",
    "```\n",
    "¿Cuánto tarda en subir el pozo?\n",
    "¿Cuál es su máximo de desplazamiento en un día? ¿Y su mínimo?\n",
    "¿Cuál es su media de velocidad durante el día?\n",
    "¿Cuál es la desviación típica de su desplazamiento durante el día?"
   ]
  },
  {
   "cell_type": "code",
   "execution_count": 1,
   "metadata": {},
   "outputs": [
    {
     "name": "stdout",
     "output_type": "stream",
     "text": [
      "Dias = 6\n",
      "El máximo desplazamiento diario es 57 cm\n",
      "La media de avance es 18.09 cm\n",
      "La desviación típica de la ocupación es 17.16\n"
     ]
    }
   ],
   "source": [
    "# Asigna los datos del problema a variables con nombres representativos\n",
    "# altura del pozo, avance diario, retroceso nocturno, distancia acumulada\n",
    "avance_cm = [30, 21, 33, 77, 44, 45, 23, 45, 12, 34, 55]\n",
    "avance_neto = []\n",
    "altura_del_pozo = 125\n",
    "retroceso_nocturno = 20\n",
    "\n",
    "# Asigna 0 a la variable que representa la solución\n",
    "dias = 0\n",
    "distancia_acumulada = 0\n",
    "\n",
    "# Escribe el código que soluciona el problema\n",
    "for i in range(0,len(avance_cm)):\n",
    "    avance_neto.append(avance_cm[i]-retroceso_nocturno)\n",
    "\n",
    "\n",
    "for i in range(0,len(avance_neto)):\n",
    "    if distancia_acumulada <=125:\n",
    "        distancia_acumulada += avance_neto[i]\n",
    "        dias += 1\n",
    "\n",
    "# Imprime el resultado con print('Dias =', dias)\n",
    "print(f\"Dias = {dias}\")\n",
    "\n",
    "# ¿Cuál es su máximo de desplazamiento en un día? ¿Y su mínimo?\n",
    "print(f\"El máximo desplazamiento diario es {max(avance_neto)} cm\")\n",
    "\n",
    "# ¿Cuál es su media de avance?\n",
    "print(f\"La media de avance es {round(sum(avance_neto)/len(avance_neto),2)} cm\")\n",
    "\n",
    "# ¿Cuál es la desviación típica de su desplazamiento durante el día?\n",
    "def des_tipica (lista):\n",
    "    varianza = 0\n",
    "    for i in range(0,len(lista)):\n",
    "        varianza += ((lista[i]-sum(lista)/len(lista))**2)/len(lista)\n",
    "    return round(varianza**(1/2),2)\n",
    "print(f\"La desviación típica de la ocupación es {des_tipica(avance_neto)}\")\n"
   ]
  },
  {
   "cell_type": "code",
   "execution_count": null,
   "metadata": {},
   "outputs": [],
   "source": []
  }
 ],
 "metadata": {
  "kernelspec": {
   "display_name": "Python 3",
   "language": "python",
   "name": "python3"
  },
  "language_info": {
   "codemirror_mode": {
    "name": "ipython",
    "version": 3
   },
   "file_extension": ".py",
   "mimetype": "text/x-python",
   "name": "python",
   "nbconvert_exporter": "python",
   "pygments_lexer": "ipython3",
   "version": "3.9.5"
  }
 },
 "nbformat": 4,
 "nbformat_minor": 4
}
