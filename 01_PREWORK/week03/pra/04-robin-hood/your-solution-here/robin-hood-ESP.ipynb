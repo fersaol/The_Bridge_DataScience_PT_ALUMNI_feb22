{
 "cells": [
  {
   "cell_type": "markdown",
   "metadata": {},
   "source": [
    "# Robin Hood: \n",
    "Estamos en plena competición para ganar el concurso de tiro con arco en Sherwood. Con nuestro arco y flechas disparamos sobre una diana e intentamos acertar lo más cerca posible del centro. \n",
    "\n",
    "El centro de la diana viene representado por los valores (0, 0) en los ejes de coordenadas. \n",
    "\n",
    "## Objetivos: \n",
    "* estructuras de datos: listas, conjuntos, tuplas\n",
    "* operadores lógicos: if-elif-else\n",
    "* bucle: while/for\n",
    "* cálculo de mínimo (sorting opcional)\n",
    "\n",
    "## Descripción: \n",
    "En el espacio de 2 dimensiones un punto se puede definir por un par de valores que corresponden a la coordenada horizontal (x) y a la vertical (y). El espacio puede quedar dividido en 4 zonas (cuadrantes): Q1, Q2, Q3, Q4. Cuyo punto de unión único es el punto (0, 0). \n",
    "\n",
    "Si un punto se encuentra en Q1 tanto su coordenada x como la y son positivas. Te dejo un enlace a wikipedia para que te familiarices con estos cuadrantes. \n",
    "\n",
    "https://es.wikipedia.org/wiki/Coordenadas_cartesianas\n",
    "\n",
    "https://es.wikipedia.org/wiki/Distancia_euclidiana\n",
    "\n",
    "## Tareas\n",
    "1. Robin Hood es famoso por acertar a una flecha con otra flecha. ¿Lo ha conseguido? \n",
    "2. Calcula cuántos flechazos han caido en cada cuadrante. \n",
    "3. Halla el punto más cercano al centro. Calcula su distancia al centro\n",
    "4. Si la diana tiene un radio de 9, calcula el número de flechas que hay que recoger al bosque. "
   ]
  },
  {
   "cell_type": "code",
   "execution_count": 82,
   "metadata": {},
   "outputs": [
    {
     "name": "stdout",
     "output_type": "stream",
     "text": [
      "Robin ha acertado en el punto (4, 5) flecha sobre flecha 2 veces\n",
      "Robin ha acertado en el punto (5, 7) flecha sobre flecha 3 veces\n",
      "Robin ha acertado en el punto (2, 2) flecha sobre flecha 2 veces\n",
      "Robin ha acertado en el punto (-3, 2) flecha sobre flecha 2 veces\n",
      "===============================\n",
      "En q1 han caido 11 flechazos\n",
      "En q2 han caido 3 flechazos\n",
      "En q3 han caido 2 flechazos\n",
      "En q4 han caido 6 flechazos\n",
      "===============================\n",
      "Lo más cerca que ha estado del centro ha sido en (0, 2)\n",
      "Lo más cerca que ha estado del centro ha sido en (0, -2)\n"
     ]
    }
   ],
   "source": [
    "puntos = [(4,5), (-0,2), (4,7), (1,-3), (3,-2), (4,5), \n",
    "          (3,2), (5,7), (-5,7), (2,2), (-4,5), (0,-2), \n",
    "          (-4,7), (-1,3), (-3,2), (-4,-5), (-3,2), \n",
    "          (5,7), (5,7), (2,2), (9, 9), (-8, -9)]\n",
    "\n",
    "flechas_sobre_flechas = []\n",
    "\n",
    "# 1. Robin Hood es famoso por acertar a una flecha con otra flecha. ¿Lo ha conseguido? \n",
    "for i in range(0,len(puntos)):\n",
    "    flecha_sobre_flecha = puntos.count(puntos[i])\n",
    "    flechas_sobre_flechas.append(flecha_sobre_flecha)\n",
    "\n",
    "diccionario =dict(zip(puntos,flechas_sobre_flechas))\n",
    "for i in diccionario.keys():\n",
    "    if diccionario[i] > 1:\n",
    "        print(f\"Robin ha acertado en el punto {i} flecha sobre flecha {diccionario[i]} veces\")\n",
    "print(\"===============================\")\n",
    "\n",
    "# 2. Calcula cuántos flechazos han caido en cada cuadrante. \n",
    "q1, q2, q3, q4 = [],[],[],[]\n",
    "\n",
    "for i in range(0,len(puntos)):\n",
    "    if puntos[i][0] >= 0 and puntos[i][1] >= 0:\n",
    "        q1.append(puntos[i])\n",
    "    elif puntos[i][0] >= 0 and puntos[i][1] <= 0:\n",
    "        q2.append(puntos[i])\n",
    "    elif puntos[i][0] <= 0 and puntos[i][1] <= 0:\n",
    "        q3.append(puntos[i])\n",
    "    else:\n",
    "        q4.append(puntos[i])\n",
    "\n",
    "print(f\"En q1 han caido {len(q1)} flechazos\")\n",
    "print(f\"En q2 han caido {len(q2)} flechazos\")\n",
    "print(f\"En q3 han caido {len(q3)} flechazos\")\n",
    "print(f\"En q4 han caido {len(q4)} flechazos\")\n",
    "print(\"===============================\")\n",
    "\n",
    "# 3. Halla el punto más cercano al centro. Calcula su distancia al centro\n",
    "# Definir una función que calcula la distancia al centro puede servir de ayuda.\n",
    "distancias =[]\n",
    "for i in range(0,len(puntos)):\n",
    "    distancia = ((puntos[i][0])**2 + (puntos[i][1]**2))**(1/2)\n",
    "    distancias.append(distancia)\n",
    "\n",
    "dic_distancias = dict(zip(puntos,distancias))\n",
    "\n",
    "for key, value in dic_distancias.items():\n",
    "    if value == min(distancias):\n",
    "        print(f\"Lo más cerca que ha estado del centro ha sido en {key}\")\n",
    "# 4. Si la diana tiene un radio de 9, calcula el número de flechas que hay que recoger al bosque. "
   ]
  },
  {
   "cell_type": "code",
   "execution_count": 84,
   "metadata": {},
   "outputs": [
    {
     "name": "stdout",
     "output_type": "stream",
     "text": [
      "la flecha (9, 9) ha salido fuera \n",
      "la flecha (-8, -9) ha salido fuera \n"
     ]
    }
   ],
   "source": [
    "\"\"\"si la diana tiene un radio de 9 significa que existe una distancia desde el orígen o centro de la diana\n",
    "hasta la circunferencia de 9 y por tanto todas aquellas flechas que tengan una distancia al orígen superior\n",
    "a 9 habrán salido fuera de la diana. Como la diana es un círculo, 9 será la distancia máxima en todos los cuadrantes\n",
    "del eje cartesiano.\"\"\"\n",
    "for i in range(0,len(distancias)):\n",
    "    if distancias[i]>9:\n",
    "        print(f\"la flecha {puntos[distancias.index(distancias[i])]} ha salido fuera \")"
   ]
  }
 ],
 "metadata": {
  "kernelspec": {
   "display_name": "Python 3",
   "language": "python",
   "name": "python3"
  },
  "language_info": {
   "codemirror_mode": {
    "name": "ipython",
    "version": 3
   },
   "file_extension": ".py",
   "mimetype": "text/x-python",
   "name": "python",
   "nbconvert_exporter": "python",
   "pygments_lexer": "ipython3",
   "version": "3.10.1"
  }
 },
 "nbformat": 4,
 "nbformat_minor": 2
}
